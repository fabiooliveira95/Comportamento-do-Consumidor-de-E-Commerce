{
 "cells": [
  {
   "cell_type": "markdown",
   "id": "7a17bf0d9dec84f7",
   "metadata": {},
   "source": [
    "### Dados de análise do comportamento do consumidor de comércio eletrônico\n",
    "`` Conjunto de dados abrangente para analisar tendências e preferências de compras``\n",
    "\n",
    "### Sobre o conjunto de dados\n",
    "Este conjunto de dados fornece uma coleção abrangente de dados de comportamento do consumidor que podem ser usados ​​para várias pesquisas de mercado e análises estatísticas. Ele inclui informações sobre padrões de compra, dados demográficos, preferências de produtos, satisfação do cliente e muito mais, tornando-o ideal para segmentação de mercado, modelagem preditiva e compreensão dos processos de tomada de decisão do cliente.\n",
    "\n",
    "O conjunto de dados foi criado para ajudar pesquisadores, cientistas de dados e profissionais de marketing a obter insights sobre o comportamento de compra do consumidor em uma ampla gama de categorias. Ao analisar esse conjunto de dados, os usuários podem identificar tendências-chave, segmentar clientes e tomar decisões baseadas em dados para melhorar as ofertas de produtos, estratégias de marketing e engajamento do cliente.\n",
    "\n",
    "Principais recursos:\n",
    "Dados demográficos do cliente: entenda idade, renda, gênero e nível de educação para melhor segmentação e marketing direcionado.\n",
    "Comportamento de compra: inclui valor da compra, frequência, categoria e preferências de canal para avaliar padrões de gastos.\n",
    "Fidelidade do cliente: recursos como fidelidade à marca, engajamento com anúncios e associação ao programa de fidelidade fornecem insights sobre retenção de clientes a longo prazo.\n",
    "Feedback do produto: as classificações do cliente e os níveis de satisfação permitem a análise da qualidade do produto e do sentimento do cliente.\n",
    "\n",
    "Tomada de decisão: o tempo gasto na pesquisa do produto, o tempo para decisão e a intenção de compra refletem como os clientes tomam decisões de compra.\n",
    "Influências na compra: fatores como influência da mídia social, sensibilidade ao desconto e taxas de devolução são incluídos para analisar como os fatores externos afetam o comportamento de compra.\n",
    "\n",
    "Visão geral das colunas:\n",
    "Customer_ID: identificador exclusivo para cada cliente.\n",
    "Age: idade do cliente (inteiro).\n",
    "Gender: gênero do cliente (categórico: masculino, feminino, não binário, outro).\n",
    "Income_Level: nível de renda do cliente (categórico: baixo, médio, alto).\n",
    "Marital_Status: estado civil do cliente (categórico: solteiro, casado, divorciado, viúvo).\n",
    "Education_Level: nível mais alto de educação concluído (categórico: ensino médio, bacharelado, mestrado, doutorado).\n",
    "Occupation: ocupação do cliente (categórico: vários cargos).\n",
    "Location: localização do cliente (cidade, região ou país).\n",
    "Purchase_Category: categoria de produtos comprados (por exemplo, eletrônicos, roupas, mantimentos).\n",
    "Purchase_Amount: valor gasto durante a compra (decimal).\n",
    "Frequency_of_Purchase: número de compras feitas por mês (inteiro).\n",
    "Purchase_Channel: o método de compra (categórico: on-line, na loja, misto).\n",
    "Brand_Loyalty: Lealdade às marcas (escala de 1 a 5).\n",
    "Product_Rating: Classificação dada pelo cliente a um produto comprado (escala de 1 a 5).\n",
    "Time_Spent_on_Product_Research: Tempo gasto pesquisando um produto (inteiro, horas ou minutos).\n",
    "Social_Media_Influence: Influência das mídias sociais na decisão de compra (categórica: Alta, Média, Baixa, Nenhuma).\n",
    "Discount_Sensitivity: Sensibilidade a descontos (categórica: Muito sensível, Um pouco sensível, Nada sensível).\n",
    "Return_Rate: Porcentagem de produtos devolvidos (decimal).\n",
    "Customer_Satisfaction: Satisfação geral com a compra (escala de 1 a 10).\n",
    "Engagement_with_Ads: Nível de engajamento com anúncios (categórica: Alta, Média, Baixa, Nenhuma).\n",
    "Device_Used_for_Shopping: Dispositivo usado para compras (categórica: Smartphone, Desktop, Tablet).\n",
    "Payment_Method: Método de pagamento usado para a compra (categórica: Cartão de crédito, Cartão de débito, PayPal, Dinheiro, Outro).\n",
    "Time_of_Purchase: Carimbo de data/hora de quando a compra foi feita (data/hora).\n",
    "Discount_Used: Se o cliente usou um desconto (Booleano: Verdadeiro/Falso).\n",
    "Customer_Loyalty_Program_Member: Se o cliente faz parte de um programa de fidelidade (Booleano: Verdadeiro/Falso).\n",
    "Purchase_Intent: A intenção por trás da compra (categórica: Impulsivo, Planejado, Baseado em necessidade, Baseado em desejos).\n",
    "Shipping_Preference: Preferência de envio (categórica: Padrão, Expresso, Sem preferência).\n",
    "Payment_Frequency: Frequência de pagamento (categórica: Único, Assinatura, Parcelamento).\n",
    "Time_to_Decision: Tempo decorrido entre a consideração e a compra real (em dias).\n",
    "\n",
    "Casos de uso:\n",
    "Segmentação de mercado: segmente clientes com base em dados demográficos, preferências e comportamento.\n",
    "Análise preditiva: use dados para prever hábitos de gastos do cliente, fidelidade e preferências de produtos.\n",
    "Criação de perfil do cliente: crie perfis detalhados de diferentes segmentos de consumidores com base no comportamento de compra, influência da mídia social e padrões de tomada de decisão.\n",
    "Insights de varejo e comércio eletrônico: analise canais de compra, métodos de pagamento e preferências de envio para otimizar estratégias de marketing e vendas.\n",
    "\n",
    "Público-alvo:\n",
    "Cientistas de dados e analistas que buscam dados de comportamento do consumidor.\n",
    "Profissionais de marketing interessados ​​em melhorar a segmentação e o direcionamento de clientes.\n",
    "Pesquisadores estão explorando fatores que influenciam as decisões e preferências do consumidor.\n",
    "Empresas que buscam melhorar a experiência do cliente e aumentar as vendas por meio de decisões baseadas em dados.\n",
    "\n",
    "Este conjunto de dados está disponível em formato CSV para fácil integração em ferramentas e plataformas de análise de dados, como Python, R e Excel."
   ]
  },
  {
   "metadata": {},
   "cell_type": "markdown",
   "source": "### Importando as Bibliotecas do Python",
   "id": "ae8de9ea71861446"
  },
  {
   "cell_type": "code",
   "id": "initial_id",
   "metadata": {
    "ExecuteTime": {
     "end_time": "2025-03-31T12:00:10.485583Z",
     "start_time": "2025-03-31T12:00:10.483531Z"
    }
   },
   "source": [
    "import pandas as pd\n",
    "import numpy as np\n",
    "import matplotlib.pyplot as plt\n",
    "import seaborn as sns"
   ],
   "outputs": [],
   "execution_count": 40
  },
  {
   "cell_type": "code",
   "id": "74225b9732edca94",
   "metadata": {
    "ExecuteTime": {
     "end_time": "2025-03-31T12:00:11.838482Z",
     "start_time": "2025-03-31T12:00:11.827277Z"
    }
   },
   "source": [
    "# lendo o conjunto de dataset\n",
    "dataset = pd.read_csv('Ecommerce_Consumer_Behavior_Analysis_Data.csv')\n",
    "dataset.head()"
   ],
   "outputs": [
    {
     "data": {
      "text/plain": [
       "   Customer_ID  Age  Gender Income_Level Marital_Status Education_Level  \\\n",
       "0  37-611-6911   22  Female       Middle        Married      Bachelor's   \n",
       "1  29-392-9296   49    Male         High        Married     High School   \n",
       "2  84-649-5117   24  Female       Middle         Single        Master's   \n",
       "3  48-980-6078   29  Female       Middle         Single        Master's   \n",
       "4  91-170-9072   33  Female       Middle        Widowed     High School   \n",
       "\n",
       "  Occupation  Location     Purchase_Category Purchase_Amount  ...  \\\n",
       "0     Middle      Évry  Gardening & Outdoors        $333.80   ...   \n",
       "1       High  Huocheng      Food & Beverages        $222.22   ...   \n",
       "2       High    Huzhen       Office Supplies        $426.22   ...   \n",
       "3     Middle    Wiwilí       Home Appliances        $101.31   ...   \n",
       "4     Middle      Nara             Furniture        $211.70   ...   \n",
       "\n",
       "   Customer_Satisfaction Engagement_with_Ads  Device_Used_for_Shopping  \\\n",
       "0                      7                 NaN                    Tablet   \n",
       "1                      5                High                    Tablet   \n",
       "2                      7                 Low                Smartphone   \n",
       "3                      1                 NaN                Smartphone   \n",
       "4                     10                 NaN                Smartphone   \n",
       "\n",
       "   Payment_Method  Time_of_Purchase Discount_Used  \\\n",
       "0     Credit Card          3/1/2024          True   \n",
       "1          PayPal         4/16/2024          True   \n",
       "2      Debit Card         3/15/2024          True   \n",
       "3           Other         10/4/2024          True   \n",
       "4      Debit Card         1/30/2024         False   \n",
       "\n",
       "  Customer_Loyalty_Program_Member  Purchase_Intent  Shipping_Preference  \\\n",
       "0                           False       Need-based        No Preference   \n",
       "1                           False      Wants-based             Standard   \n",
       "2                            True        Impulsive        No Preference   \n",
       "3                            True       Need-based              Express   \n",
       "4                           False      Wants-based        No Preference   \n",
       "\n",
       "  Time_to_Decision  \n",
       "0                2  \n",
       "1                6  \n",
       "2                3  \n",
       "3               10  \n",
       "4                4  \n",
       "\n",
       "[5 rows x 28 columns]"
      ],
      "text/html": [
       "<div>\n",
       "<style scoped>\n",
       "    .dataframe tbody tr th:only-of-type {\n",
       "        vertical-align: middle;\n",
       "    }\n",
       "\n",
       "    .dataframe tbody tr th {\n",
       "        vertical-align: top;\n",
       "    }\n",
       "\n",
       "    .dataframe thead th {\n",
       "        text-align: right;\n",
       "    }\n",
       "</style>\n",
       "<table border=\"1\" class=\"dataframe\">\n",
       "  <thead>\n",
       "    <tr style=\"text-align: right;\">\n",
       "      <th></th>\n",
       "      <th>Customer_ID</th>\n",
       "      <th>Age</th>\n",
       "      <th>Gender</th>\n",
       "      <th>Income_Level</th>\n",
       "      <th>Marital_Status</th>\n",
       "      <th>Education_Level</th>\n",
       "      <th>Occupation</th>\n",
       "      <th>Location</th>\n",
       "      <th>Purchase_Category</th>\n",
       "      <th>Purchase_Amount</th>\n",
       "      <th>...</th>\n",
       "      <th>Customer_Satisfaction</th>\n",
       "      <th>Engagement_with_Ads</th>\n",
       "      <th>Device_Used_for_Shopping</th>\n",
       "      <th>Payment_Method</th>\n",
       "      <th>Time_of_Purchase</th>\n",
       "      <th>Discount_Used</th>\n",
       "      <th>Customer_Loyalty_Program_Member</th>\n",
       "      <th>Purchase_Intent</th>\n",
       "      <th>Shipping_Preference</th>\n",
       "      <th>Time_to_Decision</th>\n",
       "    </tr>\n",
       "  </thead>\n",
       "  <tbody>\n",
       "    <tr>\n",
       "      <th>0</th>\n",
       "      <td>37-611-6911</td>\n",
       "      <td>22</td>\n",
       "      <td>Female</td>\n",
       "      <td>Middle</td>\n",
       "      <td>Married</td>\n",
       "      <td>Bachelor's</td>\n",
       "      <td>Middle</td>\n",
       "      <td>Évry</td>\n",
       "      <td>Gardening &amp; Outdoors</td>\n",
       "      <td>$333.80</td>\n",
       "      <td>...</td>\n",
       "      <td>7</td>\n",
       "      <td>NaN</td>\n",
       "      <td>Tablet</td>\n",
       "      <td>Credit Card</td>\n",
       "      <td>3/1/2024</td>\n",
       "      <td>True</td>\n",
       "      <td>False</td>\n",
       "      <td>Need-based</td>\n",
       "      <td>No Preference</td>\n",
       "      <td>2</td>\n",
       "    </tr>\n",
       "    <tr>\n",
       "      <th>1</th>\n",
       "      <td>29-392-9296</td>\n",
       "      <td>49</td>\n",
       "      <td>Male</td>\n",
       "      <td>High</td>\n",
       "      <td>Married</td>\n",
       "      <td>High School</td>\n",
       "      <td>High</td>\n",
       "      <td>Huocheng</td>\n",
       "      <td>Food &amp; Beverages</td>\n",
       "      <td>$222.22</td>\n",
       "      <td>...</td>\n",
       "      <td>5</td>\n",
       "      <td>High</td>\n",
       "      <td>Tablet</td>\n",
       "      <td>PayPal</td>\n",
       "      <td>4/16/2024</td>\n",
       "      <td>True</td>\n",
       "      <td>False</td>\n",
       "      <td>Wants-based</td>\n",
       "      <td>Standard</td>\n",
       "      <td>6</td>\n",
       "    </tr>\n",
       "    <tr>\n",
       "      <th>2</th>\n",
       "      <td>84-649-5117</td>\n",
       "      <td>24</td>\n",
       "      <td>Female</td>\n",
       "      <td>Middle</td>\n",
       "      <td>Single</td>\n",
       "      <td>Master's</td>\n",
       "      <td>High</td>\n",
       "      <td>Huzhen</td>\n",
       "      <td>Office Supplies</td>\n",
       "      <td>$426.22</td>\n",
       "      <td>...</td>\n",
       "      <td>7</td>\n",
       "      <td>Low</td>\n",
       "      <td>Smartphone</td>\n",
       "      <td>Debit Card</td>\n",
       "      <td>3/15/2024</td>\n",
       "      <td>True</td>\n",
       "      <td>True</td>\n",
       "      <td>Impulsive</td>\n",
       "      <td>No Preference</td>\n",
       "      <td>3</td>\n",
       "    </tr>\n",
       "    <tr>\n",
       "      <th>3</th>\n",
       "      <td>48-980-6078</td>\n",
       "      <td>29</td>\n",
       "      <td>Female</td>\n",
       "      <td>Middle</td>\n",
       "      <td>Single</td>\n",
       "      <td>Master's</td>\n",
       "      <td>Middle</td>\n",
       "      <td>Wiwilí</td>\n",
       "      <td>Home Appliances</td>\n",
       "      <td>$101.31</td>\n",
       "      <td>...</td>\n",
       "      <td>1</td>\n",
       "      <td>NaN</td>\n",
       "      <td>Smartphone</td>\n",
       "      <td>Other</td>\n",
       "      <td>10/4/2024</td>\n",
       "      <td>True</td>\n",
       "      <td>True</td>\n",
       "      <td>Need-based</td>\n",
       "      <td>Express</td>\n",
       "      <td>10</td>\n",
       "    </tr>\n",
       "    <tr>\n",
       "      <th>4</th>\n",
       "      <td>91-170-9072</td>\n",
       "      <td>33</td>\n",
       "      <td>Female</td>\n",
       "      <td>Middle</td>\n",
       "      <td>Widowed</td>\n",
       "      <td>High School</td>\n",
       "      <td>Middle</td>\n",
       "      <td>Nara</td>\n",
       "      <td>Furniture</td>\n",
       "      <td>$211.70</td>\n",
       "      <td>...</td>\n",
       "      <td>10</td>\n",
       "      <td>NaN</td>\n",
       "      <td>Smartphone</td>\n",
       "      <td>Debit Card</td>\n",
       "      <td>1/30/2024</td>\n",
       "      <td>False</td>\n",
       "      <td>False</td>\n",
       "      <td>Wants-based</td>\n",
       "      <td>No Preference</td>\n",
       "      <td>4</td>\n",
       "    </tr>\n",
       "  </tbody>\n",
       "</table>\n",
       "<p>5 rows × 28 columns</p>\n",
       "</div>"
      ]
     },
     "execution_count": 41,
     "metadata": {},
     "output_type": "execute_result"
    }
   ],
   "execution_count": 41
  },
  {
   "cell_type": "markdown",
   "id": "b21748b6750cad90",
   "metadata": {},
   "source": [
    "Com o dados em mãos, vamos conhecer um pouco melhor a estrutura do nosso conjunto de dados."
   ]
  },
  {
   "cell_type": "markdown",
   "id": "6f31a4e5da3a1d3",
   "metadata": {},
   "source": [
    "### **2.1. Estrutura**"
   ]
  },
  {
   "cell_type": "code",
   "id": "e2a1d0ca0c0f7dd0",
   "metadata": {
    "ExecuteTime": {
     "end_time": "2025-03-31T12:04:18.507721Z",
     "start_time": "2025-03-31T12:04:18.504573Z"
    }
   },
   "source": [
    "dataset['Income_Level']"
   ],
   "outputs": [
    {
     "data": {
      "text/plain": [
       "0      Middle\n",
       "1        High\n",
       "2      Middle\n",
       "3      Middle\n",
       "4      Middle\n",
       "        ...  \n",
       "995      High\n",
       "996      High\n",
       "997      High\n",
       "998      High\n",
       "999    Middle\n",
       "Name: Income_Level, Length: 1000, dtype: object"
      ]
     },
     "execution_count": 61,
     "metadata": {},
     "output_type": "execute_result"
    }
   ],
   "execution_count": 61
  },
  {
   "cell_type": "code",
   "id": "5497d33b4402f47d",
   "metadata": {
    "ExecuteTime": {
     "end_time": "2025-03-31T12:04:20.790368Z",
     "start_time": "2025-03-31T12:04:20.787351Z"
    }
   },
   "source": [
    "dataset.columns"
   ],
   "outputs": [
    {
     "data": {
      "text/plain": [
       "Index(['Customer_ID', 'Age', 'Gender', 'Income_Level', 'Marital_Status',\n",
       "       'Education_Level', 'Occupation', 'Location', 'Purchase_Category',\n",
       "       'Purchase_Amount', 'Frequency_of_Purchase', 'Purchase_Channel',\n",
       "       'Brand_Loyalty', 'Product_Rating',\n",
       "       'Time_Spent_on_Product_Research(hours)', 'Social_Media_Influence',\n",
       "       'Discount_Sensitivity', 'Return_Rate', 'Customer_Satisfaction',\n",
       "       'Engagement_with_Ads', 'Device_Used_for_Shopping', 'Payment_Method',\n",
       "       'Time_of_Purchase', 'Discount_Used', 'Customer_Loyalty_Program_Member',\n",
       "       'Purchase_Intent', 'Shipping_Preference', 'Time_to_Decision'],\n",
       "      dtype='object')"
      ]
     },
     "execution_count": 62,
     "metadata": {},
     "output_type": "execute_result"
    }
   ],
   "execution_count": 62
  },
  {
   "cell_type": "code",
   "id": "6d802797b0e7d6fb",
   "metadata": {
    "ExecuteTime": {
     "end_time": "2025-03-31T12:04:22.369337Z",
     "start_time": "2025-03-31T12:04:22.366209Z"
    }
   },
   "source": [
    "dataset.shape # retorna uma tupla (qtd linhas, qtd colunas)"
   ],
   "outputs": [
    {
     "data": {
      "text/plain": [
       "(1000, 28)"
      ]
     },
     "execution_count": 63,
     "metadata": {},
     "output_type": "execute_result"
    }
   ],
   "execution_count": 63
  },
  {
   "cell_type": "code",
   "id": "ddfb4181921eee47",
   "metadata": {
    "ExecuteTime": {
     "end_time": "2025-03-31T12:04:23.480571Z",
     "start_time": "2025-03-31T12:04:23.476537Z"
    }
   },
   "source": [
    "dataset[dataset['Income_Level'] == 'High'].shape"
   ],
   "outputs": [
    {
     "data": {
      "text/plain": [
       "(515, 28)"
      ]
     },
     "execution_count": 64,
     "metadata": {},
     "output_type": "execute_result"
    }
   ],
   "execution_count": 64
  },
  {
   "cell_type": "code",
   "id": "cd8d350ecf8c15a9",
   "metadata": {
    "ExecuteTime": {
     "end_time": "2025-03-31T12:04:24.766396Z",
     "start_time": "2025-03-31T12:04:24.763117Z"
    }
   },
   "source": [
    "dataset[dataset['Income_Level'] == 'Middle'].shape"
   ],
   "outputs": [
    {
     "data": {
      "text/plain": [
       "(485, 28)"
      ]
     },
     "execution_count": 65,
     "metadata": {},
     "output_type": "execute_result"
    }
   ],
   "execution_count": 65
  },
  {
   "cell_type": "code",
   "id": "ac8f4e90515930a3",
   "metadata": {
    "ExecuteTime": {
     "end_time": "2025-03-31T12:04:25.855848Z",
     "start_time": "2025-03-31T12:04:25.852835Z"
    }
   },
   "source": [
    "qtd_total, _ = dataset.shape\n",
    "qtd_cliente_com_renda_alta, _ = dataset[dataset['Income_Level'] == 'High'].shape\n",
    "qtd_cliente_com_renda_media, _ = dataset[dataset['Income_Level'] == 'Middle'].shape"
   ],
   "outputs": [],
   "execution_count": 66
  },
  {
   "cell_type": "code",
   "id": "778d5f5cfe9603ed",
   "metadata": {
    "ExecuteTime": {
     "end_time": "2025-03-31T12:04:27.092430Z",
     "start_time": "2025-03-31T12:04:27.089925Z"
    }
   },
   "source": [
    "print(f\"A proporcão clientes com renda alta é de {round(100 * qtd_cliente_com_renda_alta / qtd_total, 2)}%\")\n",
    "print(f\"A proporcão clientes com renda media é de {round(100 * qtd_cliente_com_renda_media / qtd_total, 2)}%\")"
   ],
   "outputs": [
    {
     "name": "stdout",
     "output_type": "stream",
     "text": [
      "A proporcão clientes com renda alta é de 51.5%\n",
      "A proporcão clientes com renda media é de 48.5%\n"
     ]
    }
   ],
   "execution_count": 67
  },
  {
   "cell_type": "markdown",
   "id": "296eb54806a5a490",
   "metadata": {},
   "source": [
    "### **2.2. Schema**"
   ]
  },
  {
   "cell_type": "code",
   "id": "cbc16750bf38207d",
   "metadata": {
    "ExecuteTime": {
     "end_time": "2025-03-31T12:04:28.720474Z",
     "start_time": "2025-03-31T12:04:28.712379Z"
    }
   },
   "source": [
    "dataset.head(n=5)"
   ],
   "outputs": [
    {
     "data": {
      "text/plain": [
       "   Customer_ID  Age  Gender Income_Level Marital_Status Education_Level  \\\n",
       "0  37-611-6911   22  Female       Middle        Married      Bachelor's   \n",
       "1  29-392-9296   49    Male         High        Married     High School   \n",
       "2  84-649-5117   24  Female       Middle         Single        Master's   \n",
       "3  48-980-6078   29  Female       Middle         Single        Master's   \n",
       "4  91-170-9072   33  Female       Middle        Widowed     High School   \n",
       "\n",
       "  Occupation  Location     Purchase_Category Purchase_Amount  ...  \\\n",
       "0     Middle      Évry  Gardening & Outdoors        $333.80   ...   \n",
       "1       High  Huocheng      Food & Beverages        $222.22   ...   \n",
       "2       High    Huzhen       Office Supplies        $426.22   ...   \n",
       "3     Middle    Wiwilí       Home Appliances        $101.31   ...   \n",
       "4     Middle      Nara             Furniture        $211.70   ...   \n",
       "\n",
       "   Customer_Satisfaction Engagement_with_Ads  Device_Used_for_Shopping  \\\n",
       "0                      7                 NaN                    Tablet   \n",
       "1                      5                High                    Tablet   \n",
       "2                      7                 Low                Smartphone   \n",
       "3                      1                 NaN                Smartphone   \n",
       "4                     10                 NaN                Smartphone   \n",
       "\n",
       "   Payment_Method  Time_of_Purchase Discount_Used  \\\n",
       "0     Credit Card        2024-03-01          True   \n",
       "1          PayPal        2024-04-16          True   \n",
       "2      Debit Card        2024-03-15          True   \n",
       "3           Other        2024-10-04          True   \n",
       "4      Debit Card        2024-01-30         False   \n",
       "\n",
       "  Customer_Loyalty_Program_Member  Purchase_Intent  Shipping_Preference  \\\n",
       "0                           False       Need-based        No Preference   \n",
       "1                           False      Wants-based             Standard   \n",
       "2                            True        Impulsive        No Preference   \n",
       "3                            True       Need-based              Express   \n",
       "4                           False      Wants-based        No Preference   \n",
       "\n",
       "  Time_to_Decision  \n",
       "0                2  \n",
       "1                6  \n",
       "2                3  \n",
       "3               10  \n",
       "4                4  \n",
       "\n",
       "[5 rows x 28 columns]"
      ],
      "text/html": [
       "<div>\n",
       "<style scoped>\n",
       "    .dataframe tbody tr th:only-of-type {\n",
       "        vertical-align: middle;\n",
       "    }\n",
       "\n",
       "    .dataframe tbody tr th {\n",
       "        vertical-align: top;\n",
       "    }\n",
       "\n",
       "    .dataframe thead th {\n",
       "        text-align: right;\n",
       "    }\n",
       "</style>\n",
       "<table border=\"1\" class=\"dataframe\">\n",
       "  <thead>\n",
       "    <tr style=\"text-align: right;\">\n",
       "      <th></th>\n",
       "      <th>Customer_ID</th>\n",
       "      <th>Age</th>\n",
       "      <th>Gender</th>\n",
       "      <th>Income_Level</th>\n",
       "      <th>Marital_Status</th>\n",
       "      <th>Education_Level</th>\n",
       "      <th>Occupation</th>\n",
       "      <th>Location</th>\n",
       "      <th>Purchase_Category</th>\n",
       "      <th>Purchase_Amount</th>\n",
       "      <th>...</th>\n",
       "      <th>Customer_Satisfaction</th>\n",
       "      <th>Engagement_with_Ads</th>\n",
       "      <th>Device_Used_for_Shopping</th>\n",
       "      <th>Payment_Method</th>\n",
       "      <th>Time_of_Purchase</th>\n",
       "      <th>Discount_Used</th>\n",
       "      <th>Customer_Loyalty_Program_Member</th>\n",
       "      <th>Purchase_Intent</th>\n",
       "      <th>Shipping_Preference</th>\n",
       "      <th>Time_to_Decision</th>\n",
       "    </tr>\n",
       "  </thead>\n",
       "  <tbody>\n",
       "    <tr>\n",
       "      <th>0</th>\n",
       "      <td>37-611-6911</td>\n",
       "      <td>22</td>\n",
       "      <td>Female</td>\n",
       "      <td>Middle</td>\n",
       "      <td>Married</td>\n",
       "      <td>Bachelor's</td>\n",
       "      <td>Middle</td>\n",
       "      <td>Évry</td>\n",
       "      <td>Gardening &amp; Outdoors</td>\n",
       "      <td>$333.80</td>\n",
       "      <td>...</td>\n",
       "      <td>7</td>\n",
       "      <td>NaN</td>\n",
       "      <td>Tablet</td>\n",
       "      <td>Credit Card</td>\n",
       "      <td>2024-03-01</td>\n",
       "      <td>True</td>\n",
       "      <td>False</td>\n",
       "      <td>Need-based</td>\n",
       "      <td>No Preference</td>\n",
       "      <td>2</td>\n",
       "    </tr>\n",
       "    <tr>\n",
       "      <th>1</th>\n",
       "      <td>29-392-9296</td>\n",
       "      <td>49</td>\n",
       "      <td>Male</td>\n",
       "      <td>High</td>\n",
       "      <td>Married</td>\n",
       "      <td>High School</td>\n",
       "      <td>High</td>\n",
       "      <td>Huocheng</td>\n",
       "      <td>Food &amp; Beverages</td>\n",
       "      <td>$222.22</td>\n",
       "      <td>...</td>\n",
       "      <td>5</td>\n",
       "      <td>High</td>\n",
       "      <td>Tablet</td>\n",
       "      <td>PayPal</td>\n",
       "      <td>2024-04-16</td>\n",
       "      <td>True</td>\n",
       "      <td>False</td>\n",
       "      <td>Wants-based</td>\n",
       "      <td>Standard</td>\n",
       "      <td>6</td>\n",
       "    </tr>\n",
       "    <tr>\n",
       "      <th>2</th>\n",
       "      <td>84-649-5117</td>\n",
       "      <td>24</td>\n",
       "      <td>Female</td>\n",
       "      <td>Middle</td>\n",
       "      <td>Single</td>\n",
       "      <td>Master's</td>\n",
       "      <td>High</td>\n",
       "      <td>Huzhen</td>\n",
       "      <td>Office Supplies</td>\n",
       "      <td>$426.22</td>\n",
       "      <td>...</td>\n",
       "      <td>7</td>\n",
       "      <td>Low</td>\n",
       "      <td>Smartphone</td>\n",
       "      <td>Debit Card</td>\n",
       "      <td>2024-03-15</td>\n",
       "      <td>True</td>\n",
       "      <td>True</td>\n",
       "      <td>Impulsive</td>\n",
       "      <td>No Preference</td>\n",
       "      <td>3</td>\n",
       "    </tr>\n",
       "    <tr>\n",
       "      <th>3</th>\n",
       "      <td>48-980-6078</td>\n",
       "      <td>29</td>\n",
       "      <td>Female</td>\n",
       "      <td>Middle</td>\n",
       "      <td>Single</td>\n",
       "      <td>Master's</td>\n",
       "      <td>Middle</td>\n",
       "      <td>Wiwilí</td>\n",
       "      <td>Home Appliances</td>\n",
       "      <td>$101.31</td>\n",
       "      <td>...</td>\n",
       "      <td>1</td>\n",
       "      <td>NaN</td>\n",
       "      <td>Smartphone</td>\n",
       "      <td>Other</td>\n",
       "      <td>2024-10-04</td>\n",
       "      <td>True</td>\n",
       "      <td>True</td>\n",
       "      <td>Need-based</td>\n",
       "      <td>Express</td>\n",
       "      <td>10</td>\n",
       "    </tr>\n",
       "    <tr>\n",
       "      <th>4</th>\n",
       "      <td>91-170-9072</td>\n",
       "      <td>33</td>\n",
       "      <td>Female</td>\n",
       "      <td>Middle</td>\n",
       "      <td>Widowed</td>\n",
       "      <td>High School</td>\n",
       "      <td>Middle</td>\n",
       "      <td>Nara</td>\n",
       "      <td>Furniture</td>\n",
       "      <td>$211.70</td>\n",
       "      <td>...</td>\n",
       "      <td>10</td>\n",
       "      <td>NaN</td>\n",
       "      <td>Smartphone</td>\n",
       "      <td>Debit Card</td>\n",
       "      <td>2024-01-30</td>\n",
       "      <td>False</td>\n",
       "      <td>False</td>\n",
       "      <td>Wants-based</td>\n",
       "      <td>No Preference</td>\n",
       "      <td>4</td>\n",
       "    </tr>\n",
       "  </tbody>\n",
       "</table>\n",
       "<p>5 rows × 28 columns</p>\n",
       "</div>"
      ]
     },
     "execution_count": 68,
     "metadata": {},
     "output_type": "execute_result"
    }
   ],
   "execution_count": 68
  },
  {
   "cell_type": "markdown",
   "id": "67a8d55db288cd96",
   "metadata": {},
   "source": [
    " - Colunas e seus respectivos tipos de dados."
   ]
  },
  {
   "cell_type": "code",
   "id": "ac922820a81897aa",
   "metadata": {
    "ExecuteTime": {
     "end_time": "2025-03-31T12:04:30.460010Z",
     "start_time": "2025-03-31T12:04:30.456996Z"
    }
   },
   "source": [
    "dataset.dtypes"
   ],
   "outputs": [
    {
     "data": {
      "text/plain": [
       "Customer_ID                                      object\n",
       "Age                                               int64\n",
       "Gender                                           object\n",
       "Income_Level                                     object\n",
       "Marital_Status                                   object\n",
       "Education_Level                                  object\n",
       "Occupation                                       object\n",
       "Location                                         object\n",
       "Purchase_Category                                object\n",
       "Purchase_Amount                                  object\n",
       "Frequency_of_Purchase                             int64\n",
       "Purchase_Channel                                 object\n",
       "Brand_Loyalty                                     int64\n",
       "Product_Rating                                    int64\n",
       "Time_Spent_on_Product_Research(hours)           float64\n",
       "Social_Media_Influence                           object\n",
       "Discount_Sensitivity                             object\n",
       "Return_Rate                                       int64\n",
       "Customer_Satisfaction                             int64\n",
       "Engagement_with_Ads                              object\n",
       "Device_Used_for_Shopping                         object\n",
       "Payment_Method                                   object\n",
       "Time_of_Purchase                         datetime64[ns]\n",
       "Discount_Used                                      bool\n",
       "Customer_Loyalty_Program_Member                    bool\n",
       "Purchase_Intent                                  object\n",
       "Shipping_Preference                              object\n",
       "Time_to_Decision                                  int64\n",
       "dtype: object"
      ]
     },
     "execution_count": 69,
     "metadata": {},
     "output_type": "execute_result"
    }
   ],
   "execution_count": 69
  },
  {
   "cell_type": "markdown",
   "id": "4ae0fd5497818d11",
   "metadata": {},
   "source": [
    " - Atributos **categóricos**."
   ]
  },
  {
   "cell_type": "code",
   "id": "d0d47e9e5205bb34",
   "metadata": {
    "ExecuteTime": {
     "end_time": "2025-03-31T12:04:32.239647Z",
     "start_time": "2025-03-31T12:04:32.225489Z"
    }
   },
   "source": [
    "dataset.select_dtypes('object').describe().transpose()"
   ],
   "outputs": [
    {
     "data": {
      "text/plain": [
       "                         count unique             top freq\n",
       "Customer_ID               1000   1000     48-203-9118    1\n",
       "Gender                    1000      8          Female  452\n",
       "Income_Level              1000      2            High  515\n",
       "Marital_Status            1000      4         Widowed  260\n",
       "Education_Level           1000      3      Bachelor's  341\n",
       "Occupation                1000      2            High  517\n",
       "Location                  1000    969            Oslo    4\n",
       "Purchase_Category         1000     24     Electronics   54\n",
       "Purchase_Amount           1000    989        $178.04     2\n",
       "Purchase_Channel          1000      3           Mixed  340\n",
       "Social_Media_Influence     753      3            High  268\n",
       "Discount_Sensitivity      1000      3  Very Sensitive  350\n",
       "Engagement_with_Ads        744      3            High  270\n",
       "Device_Used_for_Shopping  1000      3         Desktop  350\n",
       "Payment_Method            1000      5          PayPal  219\n",
       "Purchase_Intent           1000      4      Need-based  256\n",
       "Shipping_Preference       1000      3   No Preference  372"
      ],
      "text/html": [
       "<div>\n",
       "<style scoped>\n",
       "    .dataframe tbody tr th:only-of-type {\n",
       "        vertical-align: middle;\n",
       "    }\n",
       "\n",
       "    .dataframe tbody tr th {\n",
       "        vertical-align: top;\n",
       "    }\n",
       "\n",
       "    .dataframe thead th {\n",
       "        text-align: right;\n",
       "    }\n",
       "</style>\n",
       "<table border=\"1\" class=\"dataframe\">\n",
       "  <thead>\n",
       "    <tr style=\"text-align: right;\">\n",
       "      <th></th>\n",
       "      <th>count</th>\n",
       "      <th>unique</th>\n",
       "      <th>top</th>\n",
       "      <th>freq</th>\n",
       "    </tr>\n",
       "  </thead>\n",
       "  <tbody>\n",
       "    <tr>\n",
       "      <th>Customer_ID</th>\n",
       "      <td>1000</td>\n",
       "      <td>1000</td>\n",
       "      <td>48-203-9118</td>\n",
       "      <td>1</td>\n",
       "    </tr>\n",
       "    <tr>\n",
       "      <th>Gender</th>\n",
       "      <td>1000</td>\n",
       "      <td>8</td>\n",
       "      <td>Female</td>\n",
       "      <td>452</td>\n",
       "    </tr>\n",
       "    <tr>\n",
       "      <th>Income_Level</th>\n",
       "      <td>1000</td>\n",
       "      <td>2</td>\n",
       "      <td>High</td>\n",
       "      <td>515</td>\n",
       "    </tr>\n",
       "    <tr>\n",
       "      <th>Marital_Status</th>\n",
       "      <td>1000</td>\n",
       "      <td>4</td>\n",
       "      <td>Widowed</td>\n",
       "      <td>260</td>\n",
       "    </tr>\n",
       "    <tr>\n",
       "      <th>Education_Level</th>\n",
       "      <td>1000</td>\n",
       "      <td>3</td>\n",
       "      <td>Bachelor's</td>\n",
       "      <td>341</td>\n",
       "    </tr>\n",
       "    <tr>\n",
       "      <th>Occupation</th>\n",
       "      <td>1000</td>\n",
       "      <td>2</td>\n",
       "      <td>High</td>\n",
       "      <td>517</td>\n",
       "    </tr>\n",
       "    <tr>\n",
       "      <th>Location</th>\n",
       "      <td>1000</td>\n",
       "      <td>969</td>\n",
       "      <td>Oslo</td>\n",
       "      <td>4</td>\n",
       "    </tr>\n",
       "    <tr>\n",
       "      <th>Purchase_Category</th>\n",
       "      <td>1000</td>\n",
       "      <td>24</td>\n",
       "      <td>Electronics</td>\n",
       "      <td>54</td>\n",
       "    </tr>\n",
       "    <tr>\n",
       "      <th>Purchase_Amount</th>\n",
       "      <td>1000</td>\n",
       "      <td>989</td>\n",
       "      <td>$178.04</td>\n",
       "      <td>2</td>\n",
       "    </tr>\n",
       "    <tr>\n",
       "      <th>Purchase_Channel</th>\n",
       "      <td>1000</td>\n",
       "      <td>3</td>\n",
       "      <td>Mixed</td>\n",
       "      <td>340</td>\n",
       "    </tr>\n",
       "    <tr>\n",
       "      <th>Social_Media_Influence</th>\n",
       "      <td>753</td>\n",
       "      <td>3</td>\n",
       "      <td>High</td>\n",
       "      <td>268</td>\n",
       "    </tr>\n",
       "    <tr>\n",
       "      <th>Discount_Sensitivity</th>\n",
       "      <td>1000</td>\n",
       "      <td>3</td>\n",
       "      <td>Very Sensitive</td>\n",
       "      <td>350</td>\n",
       "    </tr>\n",
       "    <tr>\n",
       "      <th>Engagement_with_Ads</th>\n",
       "      <td>744</td>\n",
       "      <td>3</td>\n",
       "      <td>High</td>\n",
       "      <td>270</td>\n",
       "    </tr>\n",
       "    <tr>\n",
       "      <th>Device_Used_for_Shopping</th>\n",
       "      <td>1000</td>\n",
       "      <td>3</td>\n",
       "      <td>Desktop</td>\n",
       "      <td>350</td>\n",
       "    </tr>\n",
       "    <tr>\n",
       "      <th>Payment_Method</th>\n",
       "      <td>1000</td>\n",
       "      <td>5</td>\n",
       "      <td>PayPal</td>\n",
       "      <td>219</td>\n",
       "    </tr>\n",
       "    <tr>\n",
       "      <th>Purchase_Intent</th>\n",
       "      <td>1000</td>\n",
       "      <td>4</td>\n",
       "      <td>Need-based</td>\n",
       "      <td>256</td>\n",
       "    </tr>\n",
       "    <tr>\n",
       "      <th>Shipping_Preference</th>\n",
       "      <td>1000</td>\n",
       "      <td>3</td>\n",
       "      <td>No Preference</td>\n",
       "      <td>372</td>\n",
       "    </tr>\n",
       "  </tbody>\n",
       "</table>\n",
       "</div>"
      ]
     },
     "execution_count": 70,
     "metadata": {},
     "output_type": "execute_result"
    }
   ],
   "execution_count": 70
  },
  {
   "cell_type": "code",
   "id": "653459fcbe0be83f",
   "metadata": {
    "ExecuteTime": {
     "end_time": "2025-03-31T12:04:34.038404Z",
     "start_time": "2025-03-31T12:04:34.024212Z"
    }
   },
   "source": "dataset.drop('Customer_ID', axis=1).select_dtypes('number').describe().transpose()",
   "outputs": [
    {
     "data": {
      "text/plain": [
       "                                        count      mean       std   min   25%  \\\n",
       "Age                                    1000.0  34.30400  9.353238  18.0  26.0   \n",
       "Frequency_of_Purchase                  1000.0   6.94500  3.147361   2.0   4.0   \n",
       "Brand_Loyalty                          1000.0   3.02600  1.416803   1.0   2.0   \n",
       "Product_Rating                         1000.0   3.03300  1.436654   1.0   2.0   \n",
       "Time_Spent_on_Product_Research(hours)  1000.0   1.01303  0.791802   0.0   0.0   \n",
       "Return_Rate                            1000.0   0.95400  0.810272   0.0   0.0   \n",
       "Customer_Satisfaction                  1000.0   5.39900  2.868454   1.0   3.0   \n",
       "Time_to_Decision                       1000.0   7.54700  4.035849   1.0   4.0   \n",
       "\n",
       "                                        50%   75%   max  \n",
       "Age                                    34.5  42.0  50.0  \n",
       "Frequency_of_Purchase                   7.0  10.0  12.0  \n",
       "Brand_Loyalty                           3.0   4.0   5.0  \n",
       "Product_Rating                          3.0   4.0   5.0  \n",
       "Time_Spent_on_Product_Research(hours)   1.0   2.0   2.0  \n",
       "Return_Rate                             1.0   2.0   2.0  \n",
       "Customer_Satisfaction                   5.0   8.0  10.0  \n",
       "Time_to_Decision                        8.0  11.0  14.0  "
      ],
      "text/html": [
       "<div>\n",
       "<style scoped>\n",
       "    .dataframe tbody tr th:only-of-type {\n",
       "        vertical-align: middle;\n",
       "    }\n",
       "\n",
       "    .dataframe tbody tr th {\n",
       "        vertical-align: top;\n",
       "    }\n",
       "\n",
       "    .dataframe thead th {\n",
       "        text-align: right;\n",
       "    }\n",
       "</style>\n",
       "<table border=\"1\" class=\"dataframe\">\n",
       "  <thead>\n",
       "    <tr style=\"text-align: right;\">\n",
       "      <th></th>\n",
       "      <th>count</th>\n",
       "      <th>mean</th>\n",
       "      <th>std</th>\n",
       "      <th>min</th>\n",
       "      <th>25%</th>\n",
       "      <th>50%</th>\n",
       "      <th>75%</th>\n",
       "      <th>max</th>\n",
       "    </tr>\n",
       "  </thead>\n",
       "  <tbody>\n",
       "    <tr>\n",
       "      <th>Age</th>\n",
       "      <td>1000.0</td>\n",
       "      <td>34.30400</td>\n",
       "      <td>9.353238</td>\n",
       "      <td>18.0</td>\n",
       "      <td>26.0</td>\n",
       "      <td>34.5</td>\n",
       "      <td>42.0</td>\n",
       "      <td>50.0</td>\n",
       "    </tr>\n",
       "    <tr>\n",
       "      <th>Frequency_of_Purchase</th>\n",
       "      <td>1000.0</td>\n",
       "      <td>6.94500</td>\n",
       "      <td>3.147361</td>\n",
       "      <td>2.0</td>\n",
       "      <td>4.0</td>\n",
       "      <td>7.0</td>\n",
       "      <td>10.0</td>\n",
       "      <td>12.0</td>\n",
       "    </tr>\n",
       "    <tr>\n",
       "      <th>Brand_Loyalty</th>\n",
       "      <td>1000.0</td>\n",
       "      <td>3.02600</td>\n",
       "      <td>1.416803</td>\n",
       "      <td>1.0</td>\n",
       "      <td>2.0</td>\n",
       "      <td>3.0</td>\n",
       "      <td>4.0</td>\n",
       "      <td>5.0</td>\n",
       "    </tr>\n",
       "    <tr>\n",
       "      <th>Product_Rating</th>\n",
       "      <td>1000.0</td>\n",
       "      <td>3.03300</td>\n",
       "      <td>1.436654</td>\n",
       "      <td>1.0</td>\n",
       "      <td>2.0</td>\n",
       "      <td>3.0</td>\n",
       "      <td>4.0</td>\n",
       "      <td>5.0</td>\n",
       "    </tr>\n",
       "    <tr>\n",
       "      <th>Time_Spent_on_Product_Research(hours)</th>\n",
       "      <td>1000.0</td>\n",
       "      <td>1.01303</td>\n",
       "      <td>0.791802</td>\n",
       "      <td>0.0</td>\n",
       "      <td>0.0</td>\n",
       "      <td>1.0</td>\n",
       "      <td>2.0</td>\n",
       "      <td>2.0</td>\n",
       "    </tr>\n",
       "    <tr>\n",
       "      <th>Return_Rate</th>\n",
       "      <td>1000.0</td>\n",
       "      <td>0.95400</td>\n",
       "      <td>0.810272</td>\n",
       "      <td>0.0</td>\n",
       "      <td>0.0</td>\n",
       "      <td>1.0</td>\n",
       "      <td>2.0</td>\n",
       "      <td>2.0</td>\n",
       "    </tr>\n",
       "    <tr>\n",
       "      <th>Customer_Satisfaction</th>\n",
       "      <td>1000.0</td>\n",
       "      <td>5.39900</td>\n",
       "      <td>2.868454</td>\n",
       "      <td>1.0</td>\n",
       "      <td>3.0</td>\n",
       "      <td>5.0</td>\n",
       "      <td>8.0</td>\n",
       "      <td>10.0</td>\n",
       "    </tr>\n",
       "    <tr>\n",
       "      <th>Time_to_Decision</th>\n",
       "      <td>1000.0</td>\n",
       "      <td>7.54700</td>\n",
       "      <td>4.035849</td>\n",
       "      <td>1.0</td>\n",
       "      <td>4.0</td>\n",
       "      <td>8.0</td>\n",
       "      <td>11.0</td>\n",
       "      <td>14.0</td>\n",
       "    </tr>\n",
       "  </tbody>\n",
       "</table>\n",
       "</div>"
      ]
     },
     "execution_count": 71,
     "metadata": {},
     "output_type": "execute_result"
    }
   ],
   "execution_count": 71
  },
  {
   "cell_type": "markdown",
   "id": "7e5b70dc204af3aa",
   "metadata": {},
   "source": [
    "### **2.3. Dados faltantes**"
   ]
  },
  {
   "cell_type": "markdown",
   "id": "7edefe3e6ac2d912",
   "metadata": {},
   "source": [
    "Dados faltantes podem ser:\n",
    "\n",
    "- Vazios (`\"\"`);\n",
    "- Nulos (`None`);\n",
    "- Não disponíveis ou aplicaveis (`na`, `NA`, etc.);\n",
    "- Não numérico (`nan`, `NaN`, `NAN`, etc)."
   ]
  },
  {
   "cell_type": "code",
   "id": "729509991c1b4cf9",
   "metadata": {
    "ExecuteTime": {
     "end_time": "2025-03-31T12:04:35.804123Z",
     "start_time": "2025-03-31T12:04:35.796019Z"
    }
   },
   "source": [
    "dataset.head()"
   ],
   "outputs": [
    {
     "data": {
      "text/plain": [
       "   Customer_ID  Age  Gender Income_Level Marital_Status Education_Level  \\\n",
       "0  37-611-6911   22  Female       Middle        Married      Bachelor's   \n",
       "1  29-392-9296   49    Male         High        Married     High School   \n",
       "2  84-649-5117   24  Female       Middle         Single        Master's   \n",
       "3  48-980-6078   29  Female       Middle         Single        Master's   \n",
       "4  91-170-9072   33  Female       Middle        Widowed     High School   \n",
       "\n",
       "  Occupation  Location     Purchase_Category Purchase_Amount  ...  \\\n",
       "0     Middle      Évry  Gardening & Outdoors        $333.80   ...   \n",
       "1       High  Huocheng      Food & Beverages        $222.22   ...   \n",
       "2       High    Huzhen       Office Supplies        $426.22   ...   \n",
       "3     Middle    Wiwilí       Home Appliances        $101.31   ...   \n",
       "4     Middle      Nara             Furniture        $211.70   ...   \n",
       "\n",
       "   Customer_Satisfaction Engagement_with_Ads  Device_Used_for_Shopping  \\\n",
       "0                      7                 NaN                    Tablet   \n",
       "1                      5                High                    Tablet   \n",
       "2                      7                 Low                Smartphone   \n",
       "3                      1                 NaN                Smartphone   \n",
       "4                     10                 NaN                Smartphone   \n",
       "\n",
       "   Payment_Method  Time_of_Purchase Discount_Used  \\\n",
       "0     Credit Card        2024-03-01          True   \n",
       "1          PayPal        2024-04-16          True   \n",
       "2      Debit Card        2024-03-15          True   \n",
       "3           Other        2024-10-04          True   \n",
       "4      Debit Card        2024-01-30         False   \n",
       "\n",
       "  Customer_Loyalty_Program_Member  Purchase_Intent  Shipping_Preference  \\\n",
       "0                           False       Need-based        No Preference   \n",
       "1                           False      Wants-based             Standard   \n",
       "2                            True        Impulsive        No Preference   \n",
       "3                            True       Need-based              Express   \n",
       "4                           False      Wants-based        No Preference   \n",
       "\n",
       "  Time_to_Decision  \n",
       "0                2  \n",
       "1                6  \n",
       "2                3  \n",
       "3               10  \n",
       "4                4  \n",
       "\n",
       "[5 rows x 28 columns]"
      ],
      "text/html": [
       "<div>\n",
       "<style scoped>\n",
       "    .dataframe tbody tr th:only-of-type {\n",
       "        vertical-align: middle;\n",
       "    }\n",
       "\n",
       "    .dataframe tbody tr th {\n",
       "        vertical-align: top;\n",
       "    }\n",
       "\n",
       "    .dataframe thead th {\n",
       "        text-align: right;\n",
       "    }\n",
       "</style>\n",
       "<table border=\"1\" class=\"dataframe\">\n",
       "  <thead>\n",
       "    <tr style=\"text-align: right;\">\n",
       "      <th></th>\n",
       "      <th>Customer_ID</th>\n",
       "      <th>Age</th>\n",
       "      <th>Gender</th>\n",
       "      <th>Income_Level</th>\n",
       "      <th>Marital_Status</th>\n",
       "      <th>Education_Level</th>\n",
       "      <th>Occupation</th>\n",
       "      <th>Location</th>\n",
       "      <th>Purchase_Category</th>\n",
       "      <th>Purchase_Amount</th>\n",
       "      <th>...</th>\n",
       "      <th>Customer_Satisfaction</th>\n",
       "      <th>Engagement_with_Ads</th>\n",
       "      <th>Device_Used_for_Shopping</th>\n",
       "      <th>Payment_Method</th>\n",
       "      <th>Time_of_Purchase</th>\n",
       "      <th>Discount_Used</th>\n",
       "      <th>Customer_Loyalty_Program_Member</th>\n",
       "      <th>Purchase_Intent</th>\n",
       "      <th>Shipping_Preference</th>\n",
       "      <th>Time_to_Decision</th>\n",
       "    </tr>\n",
       "  </thead>\n",
       "  <tbody>\n",
       "    <tr>\n",
       "      <th>0</th>\n",
       "      <td>37-611-6911</td>\n",
       "      <td>22</td>\n",
       "      <td>Female</td>\n",
       "      <td>Middle</td>\n",
       "      <td>Married</td>\n",
       "      <td>Bachelor's</td>\n",
       "      <td>Middle</td>\n",
       "      <td>Évry</td>\n",
       "      <td>Gardening &amp; Outdoors</td>\n",
       "      <td>$333.80</td>\n",
       "      <td>...</td>\n",
       "      <td>7</td>\n",
       "      <td>NaN</td>\n",
       "      <td>Tablet</td>\n",
       "      <td>Credit Card</td>\n",
       "      <td>2024-03-01</td>\n",
       "      <td>True</td>\n",
       "      <td>False</td>\n",
       "      <td>Need-based</td>\n",
       "      <td>No Preference</td>\n",
       "      <td>2</td>\n",
       "    </tr>\n",
       "    <tr>\n",
       "      <th>1</th>\n",
       "      <td>29-392-9296</td>\n",
       "      <td>49</td>\n",
       "      <td>Male</td>\n",
       "      <td>High</td>\n",
       "      <td>Married</td>\n",
       "      <td>High School</td>\n",
       "      <td>High</td>\n",
       "      <td>Huocheng</td>\n",
       "      <td>Food &amp; Beverages</td>\n",
       "      <td>$222.22</td>\n",
       "      <td>...</td>\n",
       "      <td>5</td>\n",
       "      <td>High</td>\n",
       "      <td>Tablet</td>\n",
       "      <td>PayPal</td>\n",
       "      <td>2024-04-16</td>\n",
       "      <td>True</td>\n",
       "      <td>False</td>\n",
       "      <td>Wants-based</td>\n",
       "      <td>Standard</td>\n",
       "      <td>6</td>\n",
       "    </tr>\n",
       "    <tr>\n",
       "      <th>2</th>\n",
       "      <td>84-649-5117</td>\n",
       "      <td>24</td>\n",
       "      <td>Female</td>\n",
       "      <td>Middle</td>\n",
       "      <td>Single</td>\n",
       "      <td>Master's</td>\n",
       "      <td>High</td>\n",
       "      <td>Huzhen</td>\n",
       "      <td>Office Supplies</td>\n",
       "      <td>$426.22</td>\n",
       "      <td>...</td>\n",
       "      <td>7</td>\n",
       "      <td>Low</td>\n",
       "      <td>Smartphone</td>\n",
       "      <td>Debit Card</td>\n",
       "      <td>2024-03-15</td>\n",
       "      <td>True</td>\n",
       "      <td>True</td>\n",
       "      <td>Impulsive</td>\n",
       "      <td>No Preference</td>\n",
       "      <td>3</td>\n",
       "    </tr>\n",
       "    <tr>\n",
       "      <th>3</th>\n",
       "      <td>48-980-6078</td>\n",
       "      <td>29</td>\n",
       "      <td>Female</td>\n",
       "      <td>Middle</td>\n",
       "      <td>Single</td>\n",
       "      <td>Master's</td>\n",
       "      <td>Middle</td>\n",
       "      <td>Wiwilí</td>\n",
       "      <td>Home Appliances</td>\n",
       "      <td>$101.31</td>\n",
       "      <td>...</td>\n",
       "      <td>1</td>\n",
       "      <td>NaN</td>\n",
       "      <td>Smartphone</td>\n",
       "      <td>Other</td>\n",
       "      <td>2024-10-04</td>\n",
       "      <td>True</td>\n",
       "      <td>True</td>\n",
       "      <td>Need-based</td>\n",
       "      <td>Express</td>\n",
       "      <td>10</td>\n",
       "    </tr>\n",
       "    <tr>\n",
       "      <th>4</th>\n",
       "      <td>91-170-9072</td>\n",
       "      <td>33</td>\n",
       "      <td>Female</td>\n",
       "      <td>Middle</td>\n",
       "      <td>Widowed</td>\n",
       "      <td>High School</td>\n",
       "      <td>Middle</td>\n",
       "      <td>Nara</td>\n",
       "      <td>Furniture</td>\n",
       "      <td>$211.70</td>\n",
       "      <td>...</td>\n",
       "      <td>10</td>\n",
       "      <td>NaN</td>\n",
       "      <td>Smartphone</td>\n",
       "      <td>Debit Card</td>\n",
       "      <td>2024-01-30</td>\n",
       "      <td>False</td>\n",
       "      <td>False</td>\n",
       "      <td>Wants-based</td>\n",
       "      <td>No Preference</td>\n",
       "      <td>4</td>\n",
       "    </tr>\n",
       "  </tbody>\n",
       "</table>\n",
       "<p>5 rows × 28 columns</p>\n",
       "</div>"
      ]
     },
     "execution_count": 72,
     "metadata": {},
     "output_type": "execute_result"
    }
   ],
   "execution_count": 72
  },
  {
   "cell_type": "markdown",
   "id": "9fce6bea86456123",
   "metadata": {},
   "source": [
    "Podemos verificar quais colunas possuem dados faltantes."
   ]
  },
  {
   "cell_type": "code",
   "id": "a6cc937be84d5a1b",
   "metadata": {
    "ExecuteTime": {
     "end_time": "2025-03-31T12:04:37.463177Z",
     "start_time": "2025-03-31T12:04:37.459129Z"
    }
   },
   "source": [
    "dataset.isna().any()"
   ],
   "outputs": [
    {
     "data": {
      "text/plain": [
       "Customer_ID                              False\n",
       "Age                                      False\n",
       "Gender                                   False\n",
       "Income_Level                             False\n",
       "Marital_Status                           False\n",
       "Education_Level                          False\n",
       "Occupation                               False\n",
       "Location                                 False\n",
       "Purchase_Category                        False\n",
       "Purchase_Amount                          False\n",
       "Frequency_of_Purchase                    False\n",
       "Purchase_Channel                         False\n",
       "Brand_Loyalty                            False\n",
       "Product_Rating                           False\n",
       "Time_Spent_on_Product_Research(hours)    False\n",
       "Social_Media_Influence                    True\n",
       "Discount_Sensitivity                     False\n",
       "Return_Rate                              False\n",
       "Customer_Satisfaction                    False\n",
       "Engagement_with_Ads                       True\n",
       "Device_Used_for_Shopping                 False\n",
       "Payment_Method                           False\n",
       "Time_of_Purchase                         False\n",
       "Discount_Used                            False\n",
       "Customer_Loyalty_Program_Member          False\n",
       "Purchase_Intent                          False\n",
       "Shipping_Preference                      False\n",
       "Time_to_Decision                         False\n",
       "dtype: bool"
      ]
     },
     "execution_count": 73,
     "metadata": {},
     "output_type": "execute_result"
    }
   ],
   "execution_count": 73
  },
  {
   "metadata": {
    "ExecuteTime": {
     "end_time": "2025-03-31T12:04:39.138815Z",
     "start_time": "2025-03-31T12:04:39.134778Z"
    }
   },
   "cell_type": "code",
   "source": "dataset.isnull().sum()",
   "id": "e3c4763421934620",
   "outputs": [
    {
     "data": {
      "text/plain": [
       "Customer_ID                                0\n",
       "Age                                        0\n",
       "Gender                                     0\n",
       "Income_Level                               0\n",
       "Marital_Status                             0\n",
       "Education_Level                            0\n",
       "Occupation                                 0\n",
       "Location                                   0\n",
       "Purchase_Category                          0\n",
       "Purchase_Amount                            0\n",
       "Frequency_of_Purchase                      0\n",
       "Purchase_Channel                           0\n",
       "Brand_Loyalty                              0\n",
       "Product_Rating                             0\n",
       "Time_Spent_on_Product_Research(hours)      0\n",
       "Social_Media_Influence                   247\n",
       "Discount_Sensitivity                       0\n",
       "Return_Rate                                0\n",
       "Customer_Satisfaction                      0\n",
       "Engagement_with_Ads                      256\n",
       "Device_Used_for_Shopping                   0\n",
       "Payment_Method                             0\n",
       "Time_of_Purchase                           0\n",
       "Discount_Used                              0\n",
       "Customer_Loyalty_Program_Member            0\n",
       "Purchase_Intent                            0\n",
       "Shipping_Preference                        0\n",
       "Time_to_Decision                           0\n",
       "dtype: int64"
      ]
     },
     "execution_count": 74,
     "metadata": {},
     "output_type": "execute_result"
    }
   ],
   "execution_count": 74
  },
  {
   "cell_type": "markdown",
   "id": "288a03dfccfafbf9",
   "metadata": {},
   "source": [
    " - A função abaixo levanta algumas estatisticas sobre as colunas dos dados faltantes."
   ]
  },
  {
   "cell_type": "code",
   "id": "edcc44f1225d7b37",
   "metadata": {
    "ExecuteTime": {
     "end_time": "2025-03-31T12:04:40.881421Z",
     "start_time": "2025-03-31T12:04:40.879046Z"
    }
   },
   "source": [
    "def stats_dados_faltantes(dataset: pd.DataFrame) -> None:\n",
    "\n",
    "    stats_dados_faltantes = []\n",
    "    for col in dataset.columns:\n",
    "        if dataset[col].isna().any():\n",
    "            qtd, _ = dataset[dataset[col].isna()].shape\n",
    "            total, _ = dataset.shape\n",
    "            dict_dados_faltantes = {col: {'quantidade': qtd, \"porcentagem\": round(100 * qtd/total, 2)}}\n",
    "            stats_dados_faltantes.append(dict_dados_faltantes)\n",
    "\n",
    "    for stat in stats_dados_faltantes:\n",
    "        print(stat)"
   ],
   "outputs": [],
   "execution_count": 75
  },
  {
   "cell_type": "code",
   "id": "43a02f4e8e4d323a",
   "metadata": {
    "ExecuteTime": {
     "end_time": "2025-03-31T12:04:42.054316Z",
     "start_time": "2025-03-31T12:04:42.049539Z"
    }
   },
   "source": [
    "stats_dados_faltantes(dataset=dataset)"
   ],
   "outputs": [
    {
     "name": "stdout",
     "output_type": "stream",
     "text": [
      "{'Social_Media_Influence': {'quantidade': 247, 'porcentagem': 24.7}}\n",
      "{'Engagement_with_Ads': {'quantidade': 256, 'porcentagem': 25.6}}\n"
     ]
    }
   ],
   "execution_count": 76
  },
  {
   "cell_type": "code",
   "id": "d9b36b42c1755c8d",
   "metadata": {
    "ExecuteTime": {
     "end_time": "2025-03-31T12:04:43.243300Z",
     "start_time": "2025-03-31T12:04:43.237826Z"
    }
   },
   "source": [
    "stats_dados_faltantes(dataset=dataset[dataset['Income_Level'] == 'High'])"
   ],
   "outputs": [
    {
     "name": "stdout",
     "output_type": "stream",
     "text": [
      "{'Social_Media_Influence': {'quantidade': 122, 'porcentagem': 23.69}}\n",
      "{'Engagement_with_Ads': {'quantidade': 126, 'porcentagem': 24.47}}\n"
     ]
    }
   ],
   "execution_count": 77
  },
  {
   "cell_type": "code",
   "id": "e87c3d0547ddbd15",
   "metadata": {
    "ExecuteTime": {
     "end_time": "2025-03-31T12:04:44.316071Z",
     "start_time": "2025-03-31T12:04:44.311421Z"
    }
   },
   "source": [
    "stats_dados_faltantes(dataset=dataset[dataset['Income_Level'] == 'Middle'])"
   ],
   "outputs": [
    {
     "name": "stdout",
     "output_type": "stream",
     "text": [
      "{'Social_Media_Influence': {'quantidade': 125, 'porcentagem': 25.77}}\n",
      "{'Engagement_with_Ads': {'quantidade': 130, 'porcentagem': 26.8}}\n"
     ]
    }
   ],
   "execution_count": 78
  },
  {
   "cell_type": "markdown",
   "id": "95d041f5072f5aa3",
   "metadata": {},
   "source": [
    "## 3\\. Transformação e limpeza de dados"
   ]
  },
  {
   "cell_type": "markdown",
   "id": "467a1f21c5008e2",
   "metadata": {},
   "source": [
    "Agora que conhecemos melhor a natureza do nosso conjunto de dados, vamos conduzir uma atividade conhecida como *data wrangling* que consiste na transformação e limpeza dos dados do conjunto para que possam ser melhor analisados. Em especial, vamos remover:\n",
    "\n",
    "- Corrigir o *schema* das nossas colunas;\n",
    "- Remover os dados faltantes."
   ]
  },
  {
   "cell_type": "markdown",
   "id": "b68ff0003f2dd27d",
   "metadata": {},
   "source": [
    "### **3.1. Correção de schema**"
   ]
  },
  {
   "cell_type": "markdown",
   "id": "7cbb9a6c24180543",
   "metadata": {},
   "source": [
    "Na etapa de exploração, notamos que as colunas **Income_Level** estavam sendo interpretadas como colunas categóricas (`dtype = object`)."
   ]
  },
  {
   "cell_type": "code",
   "id": "d18cfeddb8c3cc87",
   "metadata": {
    "ExecuteTime": {
     "end_time": "2025-03-31T12:04:47.517367Z",
     "start_time": "2025-03-31T12:04:47.514609Z"
    }
   },
   "source": [
    "dataset['Time_of_Purchase'] = pd.to_datetime(dataset['Time_of_Purchase'])\n",
    "#dataset[['Income_Level', 'Purchase_Amount']].dtypes"
   ],
   "outputs": [],
   "execution_count": 80
  },
  {
   "cell_type": "code",
   "id": "8fad6769b1f830f3",
   "metadata": {
    "ExecuteTime": {
     "end_time": "2025-03-31T12:04:48.802404Z",
     "start_time": "2025-03-31T12:04:48.797787Z"
    }
   },
   "source": [
    "dataset[['Income_Level', 'Purchase_Amount']].head(n=5)"
   ],
   "outputs": [
    {
     "data": {
      "text/plain": [
       "  Income_Level Purchase_Amount\n",
       "0       Middle        $333.80 \n",
       "1         High        $222.22 \n",
       "2       Middle        $426.22 \n",
       "3       Middle        $101.31 \n",
       "4       Middle        $211.70 "
      ],
      "text/html": [
       "<div>\n",
       "<style scoped>\n",
       "    .dataframe tbody tr th:only-of-type {\n",
       "        vertical-align: middle;\n",
       "    }\n",
       "\n",
       "    .dataframe tbody tr th {\n",
       "        vertical-align: top;\n",
       "    }\n",
       "\n",
       "    .dataframe thead th {\n",
       "        text-align: right;\n",
       "    }\n",
       "</style>\n",
       "<table border=\"1\" class=\"dataframe\">\n",
       "  <thead>\n",
       "    <tr style=\"text-align: right;\">\n",
       "      <th></th>\n",
       "      <th>Income_Level</th>\n",
       "      <th>Purchase_Amount</th>\n",
       "    </tr>\n",
       "  </thead>\n",
       "  <tbody>\n",
       "    <tr>\n",
       "      <th>0</th>\n",
       "      <td>Middle</td>\n",
       "      <td>$333.80</td>\n",
       "    </tr>\n",
       "    <tr>\n",
       "      <th>1</th>\n",
       "      <td>High</td>\n",
       "      <td>$222.22</td>\n",
       "    </tr>\n",
       "    <tr>\n",
       "      <th>2</th>\n",
       "      <td>Middle</td>\n",
       "      <td>$426.22</td>\n",
       "    </tr>\n",
       "    <tr>\n",
       "      <th>3</th>\n",
       "      <td>Middle</td>\n",
       "      <td>$101.31</td>\n",
       "    </tr>\n",
       "    <tr>\n",
       "      <th>4</th>\n",
       "      <td>Middle</td>\n",
       "      <td>$211.70</td>\n",
       "    </tr>\n",
       "  </tbody>\n",
       "</table>\n",
       "</div>"
      ]
     },
     "execution_count": 81,
     "metadata": {},
     "output_type": "execute_result"
    }
   ],
   "execution_count": 81
  },
  {
   "cell_type": "markdown",
   "id": "924ac8577afa9193",
   "metadata": {},
   "source": [
    "Vamos criar uma função `lambda` para limpar os dados. Mas antes, vamos testar sua aplicação através do método funcional `map`:"
   ]
  },
  {
   "cell_type": "code",
   "id": "ac27443c18d84835",
   "metadata": {
    "ExecuteTime": {
     "end_time": "2025-03-31T12:04:50.780198Z",
     "start_time": "2025-03-31T12:04:50.777594Z"
    }
   },
   "source": [
    "fn = lambda valor: float(valor.replace(\".\", \"\").replace(\",\", \".\"))\n",
    "valores_originais = ['333.80', '222.22', '426.22', '101.31', '211.70']\n",
    "valores_limpos = list(map(fn, valores_originais))\n",
    "\n",
    "print(valores_originais)\n",
    "print(valores_limpos)\n"
   ],
   "outputs": [
    {
     "name": "stdout",
     "output_type": "stream",
     "text": [
      "['333.80', '222.22', '426.22', '101.31', '211.70']\n",
      "[33380.0, 22222.0, 42622.0, 10131.0, 21170.0]\n"
     ]
    }
   ],
   "execution_count": 82
  },
  {
   "cell_type": "markdown",
   "id": "4c2971c5621382bf",
   "metadata": {},
   "source": [
    "Com a função `lambda` de limpeza pronta, basta aplica-la nas colunas de interesse."
   ]
  },
  {
   "cell_type": "code",
   "id": "7c8e1c04430a0257",
   "metadata": {
    "ExecuteTime": {
     "end_time": "2025-03-31T12:04:52.897445Z",
     "start_time": "2025-03-31T12:04:52.894218Z"
    }
   },
   "source": [
    "dataset['Purchase_Amount'] = dataset['Purchase_Amount'].replace('[\\$,]', '', regex=True).astype(float)\n",
    "dataset['Purchase_Amount'] = dataset['Purchase_Amount'].replace('[\\$,]', '', regex=True).astype(float)\n"
   ],
   "outputs": [
    {
     "name": "stderr",
     "output_type": "stream",
     "text": [
      "<>:1: SyntaxWarning: invalid escape sequence '\\$'\n",
      "<>:2: SyntaxWarning: invalid escape sequence '\\$'\n",
      "<>:1: SyntaxWarning: invalid escape sequence '\\$'\n",
      "<>:2: SyntaxWarning: invalid escape sequence '\\$'\n",
      "/tmp/ipykernel_10209/1860466801.py:1: SyntaxWarning: invalid escape sequence '\\$'\n",
      "  dataset['Purchase_Amount'] = dataset['Purchase_Amount'].replace('[\\$,]', '', regex=True).astype(float)\n",
      "/tmp/ipykernel_10209/1860466801.py:2: SyntaxWarning: invalid escape sequence '\\$'\n",
      "  dataset['Purchase_Amount'] = dataset['Purchase_Amount'].replace('[\\$,]', '', regex=True).astype(float)\n"
     ]
    }
   ],
   "execution_count": 83
  },
  {
   "cell_type": "markdown",
   "id": "edeaec3c3a972be4",
   "metadata": {},
   "source": [
    "Vamos descrever novamente o *schema*:"
   ]
  },
  {
   "cell_type": "code",
   "id": "e57204f22571b360",
   "metadata": {
    "ExecuteTime": {
     "end_time": "2025-03-31T12:04:54.842776Z",
     "start_time": "2025-03-31T12:04:54.839490Z"
    }
   },
   "source": [
    "dataset.dtypes"
   ],
   "outputs": [
    {
     "data": {
      "text/plain": [
       "Customer_ID                                      object\n",
       "Age                                               int64\n",
       "Gender                                           object\n",
       "Income_Level                                     object\n",
       "Marital_Status                                   object\n",
       "Education_Level                                  object\n",
       "Occupation                                       object\n",
       "Location                                         object\n",
       "Purchase_Category                                object\n",
       "Purchase_Amount                                 float64\n",
       "Frequency_of_Purchase                             int64\n",
       "Purchase_Channel                                 object\n",
       "Brand_Loyalty                                     int64\n",
       "Product_Rating                                    int64\n",
       "Time_Spent_on_Product_Research(hours)           float64\n",
       "Social_Media_Influence                           object\n",
       "Discount_Sensitivity                             object\n",
       "Return_Rate                                       int64\n",
       "Customer_Satisfaction                             int64\n",
       "Engagement_with_Ads                              object\n",
       "Device_Used_for_Shopping                         object\n",
       "Payment_Method                                   object\n",
       "Time_of_Purchase                         datetime64[ns]\n",
       "Discount_Used                                      bool\n",
       "Customer_Loyalty_Program_Member                    bool\n",
       "Purchase_Intent                                  object\n",
       "Shipping_Preference                              object\n",
       "Time_to_Decision                                  int64\n",
       "dtype: object"
      ]
     },
     "execution_count": 84,
     "metadata": {},
     "output_type": "execute_result"
    }
   ],
   "execution_count": 84
  },
  {
   "cell_type": "markdown",
   "id": "bb4876b3d4d86279",
   "metadata": {},
   "source": [
    " - Atributos **categóricos**."
   ]
  },
  {
   "cell_type": "code",
   "id": "8f71a9d529e5c4c0",
   "metadata": {
    "ExecuteTime": {
     "end_time": "2025-03-31T12:04:56.855895Z",
     "start_time": "2025-03-31T12:04:56.844014Z"
    }
   },
   "source": [
    "dataset.select_dtypes('object').describe().transpose()"
   ],
   "outputs": [
    {
     "data": {
      "text/plain": [
       "                         count unique             top freq\n",
       "Customer_ID               1000   1000     48-203-9118    1\n",
       "Gender                    1000      8          Female  452\n",
       "Income_Level              1000      2            High  515\n",
       "Marital_Status            1000      4         Widowed  260\n",
       "Education_Level           1000      3      Bachelor's  341\n",
       "Occupation                1000      2            High  517\n",
       "Location                  1000    969            Oslo    4\n",
       "Purchase_Category         1000     24     Electronics   54\n",
       "Purchase_Channel          1000      3           Mixed  340\n",
       "Social_Media_Influence     753      3            High  268\n",
       "Discount_Sensitivity      1000      3  Very Sensitive  350\n",
       "Engagement_with_Ads        744      3            High  270\n",
       "Device_Used_for_Shopping  1000      3         Desktop  350\n",
       "Payment_Method            1000      5          PayPal  219\n",
       "Purchase_Intent           1000      4      Need-based  256\n",
       "Shipping_Preference       1000      3   No Preference  372"
      ],
      "text/html": [
       "<div>\n",
       "<style scoped>\n",
       "    .dataframe tbody tr th:only-of-type {\n",
       "        vertical-align: middle;\n",
       "    }\n",
       "\n",
       "    .dataframe tbody tr th {\n",
       "        vertical-align: top;\n",
       "    }\n",
       "\n",
       "    .dataframe thead th {\n",
       "        text-align: right;\n",
       "    }\n",
       "</style>\n",
       "<table border=\"1\" class=\"dataframe\">\n",
       "  <thead>\n",
       "    <tr style=\"text-align: right;\">\n",
       "      <th></th>\n",
       "      <th>count</th>\n",
       "      <th>unique</th>\n",
       "      <th>top</th>\n",
       "      <th>freq</th>\n",
       "    </tr>\n",
       "  </thead>\n",
       "  <tbody>\n",
       "    <tr>\n",
       "      <th>Customer_ID</th>\n",
       "      <td>1000</td>\n",
       "      <td>1000</td>\n",
       "      <td>48-203-9118</td>\n",
       "      <td>1</td>\n",
       "    </tr>\n",
       "    <tr>\n",
       "      <th>Gender</th>\n",
       "      <td>1000</td>\n",
       "      <td>8</td>\n",
       "      <td>Female</td>\n",
       "      <td>452</td>\n",
       "    </tr>\n",
       "    <tr>\n",
       "      <th>Income_Level</th>\n",
       "      <td>1000</td>\n",
       "      <td>2</td>\n",
       "      <td>High</td>\n",
       "      <td>515</td>\n",
       "    </tr>\n",
       "    <tr>\n",
       "      <th>Marital_Status</th>\n",
       "      <td>1000</td>\n",
       "      <td>4</td>\n",
       "      <td>Widowed</td>\n",
       "      <td>260</td>\n",
       "    </tr>\n",
       "    <tr>\n",
       "      <th>Education_Level</th>\n",
       "      <td>1000</td>\n",
       "      <td>3</td>\n",
       "      <td>Bachelor's</td>\n",
       "      <td>341</td>\n",
       "    </tr>\n",
       "    <tr>\n",
       "      <th>Occupation</th>\n",
       "      <td>1000</td>\n",
       "      <td>2</td>\n",
       "      <td>High</td>\n",
       "      <td>517</td>\n",
       "    </tr>\n",
       "    <tr>\n",
       "      <th>Location</th>\n",
       "      <td>1000</td>\n",
       "      <td>969</td>\n",
       "      <td>Oslo</td>\n",
       "      <td>4</td>\n",
       "    </tr>\n",
       "    <tr>\n",
       "      <th>Purchase_Category</th>\n",
       "      <td>1000</td>\n",
       "      <td>24</td>\n",
       "      <td>Electronics</td>\n",
       "      <td>54</td>\n",
       "    </tr>\n",
       "    <tr>\n",
       "      <th>Purchase_Channel</th>\n",
       "      <td>1000</td>\n",
       "      <td>3</td>\n",
       "      <td>Mixed</td>\n",
       "      <td>340</td>\n",
       "    </tr>\n",
       "    <tr>\n",
       "      <th>Social_Media_Influence</th>\n",
       "      <td>753</td>\n",
       "      <td>3</td>\n",
       "      <td>High</td>\n",
       "      <td>268</td>\n",
       "    </tr>\n",
       "    <tr>\n",
       "      <th>Discount_Sensitivity</th>\n",
       "      <td>1000</td>\n",
       "      <td>3</td>\n",
       "      <td>Very Sensitive</td>\n",
       "      <td>350</td>\n",
       "    </tr>\n",
       "    <tr>\n",
       "      <th>Engagement_with_Ads</th>\n",
       "      <td>744</td>\n",
       "      <td>3</td>\n",
       "      <td>High</td>\n",
       "      <td>270</td>\n",
       "    </tr>\n",
       "    <tr>\n",
       "      <th>Device_Used_for_Shopping</th>\n",
       "      <td>1000</td>\n",
       "      <td>3</td>\n",
       "      <td>Desktop</td>\n",
       "      <td>350</td>\n",
       "    </tr>\n",
       "    <tr>\n",
       "      <th>Payment_Method</th>\n",
       "      <td>1000</td>\n",
       "      <td>5</td>\n",
       "      <td>PayPal</td>\n",
       "      <td>219</td>\n",
       "    </tr>\n",
       "    <tr>\n",
       "      <th>Purchase_Intent</th>\n",
       "      <td>1000</td>\n",
       "      <td>4</td>\n",
       "      <td>Need-based</td>\n",
       "      <td>256</td>\n",
       "    </tr>\n",
       "    <tr>\n",
       "      <th>Shipping_Preference</th>\n",
       "      <td>1000</td>\n",
       "      <td>3</td>\n",
       "      <td>No Preference</td>\n",
       "      <td>372</td>\n",
       "    </tr>\n",
       "  </tbody>\n",
       "</table>\n",
       "</div>"
      ]
     },
     "execution_count": 85,
     "metadata": {},
     "output_type": "execute_result"
    }
   ],
   "execution_count": 85
  },
  {
   "cell_type": "markdown",
   "id": "390276f0d8f938fc",
   "metadata": {},
   "source": [
    " - Atributos **numéricos**."
   ]
  },
  {
   "cell_type": "code",
   "id": "95b644281b88d84",
   "metadata": {
    "ExecuteTime": {
     "end_time": "2025-03-31T12:04:58.789847Z",
     "start_time": "2025-03-31T12:04:58.775885Z"
    }
   },
   "source": "dataset.drop('Customer_ID', axis=1).select_dtypes('number').describe().transpose()",
   "outputs": [
    {
     "data": {
      "text/plain": [
       "                                        count       mean         std    min  \\\n",
       "Age                                    1000.0   34.30400    9.353238  18.00   \n",
       "Purchase_Amount                        1000.0  275.06388  131.532998  50.71   \n",
       "Frequency_of_Purchase                  1000.0    6.94500    3.147361   2.00   \n",
       "Brand_Loyalty                          1000.0    3.02600    1.416803   1.00   \n",
       "Product_Rating                         1000.0    3.03300    1.436654   1.00   \n",
       "Time_Spent_on_Product_Research(hours)  1000.0    1.01303    0.791802   0.00   \n",
       "Return_Rate                            1000.0    0.95400    0.810272   0.00   \n",
       "Customer_Satisfaction                  1000.0    5.39900    2.868454   1.00   \n",
       "Time_to_Decision                       1000.0    7.54700    4.035849   1.00   \n",
       "\n",
       "                                           25%      50%       75%     max  \n",
       "Age                                     26.000   34.500   42.0000   50.00  \n",
       "Purchase_Amount                        162.235  276.165  388.9825  498.33  \n",
       "Frequency_of_Purchase                    4.000    7.000   10.0000   12.00  \n",
       "Brand_Loyalty                            2.000    3.000    4.0000    5.00  \n",
       "Product_Rating                           2.000    3.000    4.0000    5.00  \n",
       "Time_Spent_on_Product_Research(hours)    0.000    1.000    2.0000    2.00  \n",
       "Return_Rate                              0.000    1.000    2.0000    2.00  \n",
       "Customer_Satisfaction                    3.000    5.000    8.0000   10.00  \n",
       "Time_to_Decision                         4.000    8.000   11.0000   14.00  "
      ],
      "text/html": [
       "<div>\n",
       "<style scoped>\n",
       "    .dataframe tbody tr th:only-of-type {\n",
       "        vertical-align: middle;\n",
       "    }\n",
       "\n",
       "    .dataframe tbody tr th {\n",
       "        vertical-align: top;\n",
       "    }\n",
       "\n",
       "    .dataframe thead th {\n",
       "        text-align: right;\n",
       "    }\n",
       "</style>\n",
       "<table border=\"1\" class=\"dataframe\">\n",
       "  <thead>\n",
       "    <tr style=\"text-align: right;\">\n",
       "      <th></th>\n",
       "      <th>count</th>\n",
       "      <th>mean</th>\n",
       "      <th>std</th>\n",
       "      <th>min</th>\n",
       "      <th>25%</th>\n",
       "      <th>50%</th>\n",
       "      <th>75%</th>\n",
       "      <th>max</th>\n",
       "    </tr>\n",
       "  </thead>\n",
       "  <tbody>\n",
       "    <tr>\n",
       "      <th>Age</th>\n",
       "      <td>1000.0</td>\n",
       "      <td>34.30400</td>\n",
       "      <td>9.353238</td>\n",
       "      <td>18.00</td>\n",
       "      <td>26.000</td>\n",
       "      <td>34.500</td>\n",
       "      <td>42.0000</td>\n",
       "      <td>50.00</td>\n",
       "    </tr>\n",
       "    <tr>\n",
       "      <th>Purchase_Amount</th>\n",
       "      <td>1000.0</td>\n",
       "      <td>275.06388</td>\n",
       "      <td>131.532998</td>\n",
       "      <td>50.71</td>\n",
       "      <td>162.235</td>\n",
       "      <td>276.165</td>\n",
       "      <td>388.9825</td>\n",
       "      <td>498.33</td>\n",
       "    </tr>\n",
       "    <tr>\n",
       "      <th>Frequency_of_Purchase</th>\n",
       "      <td>1000.0</td>\n",
       "      <td>6.94500</td>\n",
       "      <td>3.147361</td>\n",
       "      <td>2.00</td>\n",
       "      <td>4.000</td>\n",
       "      <td>7.000</td>\n",
       "      <td>10.0000</td>\n",
       "      <td>12.00</td>\n",
       "    </tr>\n",
       "    <tr>\n",
       "      <th>Brand_Loyalty</th>\n",
       "      <td>1000.0</td>\n",
       "      <td>3.02600</td>\n",
       "      <td>1.416803</td>\n",
       "      <td>1.00</td>\n",
       "      <td>2.000</td>\n",
       "      <td>3.000</td>\n",
       "      <td>4.0000</td>\n",
       "      <td>5.00</td>\n",
       "    </tr>\n",
       "    <tr>\n",
       "      <th>Product_Rating</th>\n",
       "      <td>1000.0</td>\n",
       "      <td>3.03300</td>\n",
       "      <td>1.436654</td>\n",
       "      <td>1.00</td>\n",
       "      <td>2.000</td>\n",
       "      <td>3.000</td>\n",
       "      <td>4.0000</td>\n",
       "      <td>5.00</td>\n",
       "    </tr>\n",
       "    <tr>\n",
       "      <th>Time_Spent_on_Product_Research(hours)</th>\n",
       "      <td>1000.0</td>\n",
       "      <td>1.01303</td>\n",
       "      <td>0.791802</td>\n",
       "      <td>0.00</td>\n",
       "      <td>0.000</td>\n",
       "      <td>1.000</td>\n",
       "      <td>2.0000</td>\n",
       "      <td>2.00</td>\n",
       "    </tr>\n",
       "    <tr>\n",
       "      <th>Return_Rate</th>\n",
       "      <td>1000.0</td>\n",
       "      <td>0.95400</td>\n",
       "      <td>0.810272</td>\n",
       "      <td>0.00</td>\n",
       "      <td>0.000</td>\n",
       "      <td>1.000</td>\n",
       "      <td>2.0000</td>\n",
       "      <td>2.00</td>\n",
       "    </tr>\n",
       "    <tr>\n",
       "      <th>Customer_Satisfaction</th>\n",
       "      <td>1000.0</td>\n",
       "      <td>5.39900</td>\n",
       "      <td>2.868454</td>\n",
       "      <td>1.00</td>\n",
       "      <td>3.000</td>\n",
       "      <td>5.000</td>\n",
       "      <td>8.0000</td>\n",
       "      <td>10.00</td>\n",
       "    </tr>\n",
       "    <tr>\n",
       "      <th>Time_to_Decision</th>\n",
       "      <td>1000.0</td>\n",
       "      <td>7.54700</td>\n",
       "      <td>4.035849</td>\n",
       "      <td>1.00</td>\n",
       "      <td>4.000</td>\n",
       "      <td>8.000</td>\n",
       "      <td>11.0000</td>\n",
       "      <td>14.00</td>\n",
       "    </tr>\n",
       "  </tbody>\n",
       "</table>\n",
       "</div>"
      ]
     },
     "execution_count": 86,
     "metadata": {},
     "output_type": "execute_result"
    }
   ],
   "execution_count": 86
  },
  {
   "metadata": {
    "ExecuteTime": {
     "end_time": "2025-03-31T12:05:00.643012Z",
     "start_time": "2025-03-31T12:05:00.499523Z"
    }
   },
   "cell_type": "code",
   "source": [
    "plt.figure(figsize=(10, 6))\n",
    "sns.boxplot(data=dataset, x='Income_Level', y='Age')\n",
    "plt.title('Distribuição de Idade por Nível de Renda')\n",
    "plt.show()\n",
    "\n",
    "sns.catplot(data=dataset, x=\"Income_Level\", y='Age', errorbar=(\"pi\", 95), kind=\"bar\")"
   ],
   "id": "3eb9d1f45335af6c",
   "outputs": [
    {
     "data": {
      "text/plain": [
       "<Figure size 1000x600 with 1 Axes>"
      ],
      "image/png": "[encoded data removed]"
     },
     "metadata": {},
     "output_type": "display_data"
    },
    {
     "data": {
      "text/plain": [
       "<seaborn.axisgrid.FacetGrid at 0x732eb1c47230>"
      ]
     },
     "execution_count": 87,
     "metadata": {},
     "output_type": "execute_result"
    },
    {
     "data": {
      "text/plain": [
       "<Figure size 511.111x500 with 1 Axes>"
      ],
      "image/png": "[encoded data removed]"
     },
     "metadata": {},
     "output_type": "display_data"
    }
   ],
   "execution_count": 87
  },
  {
   "metadata": {},
   "cell_type": "markdown",
   "source": [
    "O boxplot acima mostra a distribuição das idades em relação aos níveis de renda (Médio e Alto). Observa-se que:\n",
    "\n",
    "* As medianas (linhas centrais nas caixas) estão alinhadas verticalmente, sugerindo que a idade média é\n",
    "similar entre os dois grupos.\n",
    "* A dispersão das idades (altura das caixas e extensão dos bigodes) parece ser maior no grupo de alta\n",
    "renda\n",
    "\n",
    "Isso indica que, embora a idade central não varie significativamente com a renda, a variabilidade é maior\n",
    "entre indivíduos com alta renda.\""
   ],
   "id": "c0ddafaa2468e95c"
  },
  {
   "metadata": {},
   "cell_type": "markdown",
   "source": "### **3.2. Remoção de dados faltantes**",
   "id": "b1aef85e0be61de6"
  },
  {
   "metadata": {},
   "cell_type": "markdown",
   "source": "Como o pandas está ciente do que é um dados faltante, a remoção das linhas problemáticas é trivial.",
   "id": "260da21027923a04"
  },
  {
   "cell_type": "code",
   "id": "edaf2f70f98a9b0c",
   "metadata": {
    "ExecuteTime": {
     "end_time": "2025-03-31T12:05:04.119896Z",
     "start_time": "2025-03-31T12:05:04.115686Z"
    }
   },
   "source": [
    "dataset.dropna(inplace=True)"
   ],
   "outputs": [],
   "execution_count": 88
  },
  {
   "cell_type": "markdown",
   "id": "16c48a3f53285054",
   "metadata": {},
   "source": [
    "Vamos analisar a estrutura dos dados novamente."
   ]
  },
  {
   "cell_type": "code",
   "id": "6d2493085b943d97",
   "metadata": {
    "ExecuteTime": {
     "end_time": "2025-03-31T12:05:05.300689Z",
     "start_time": "2025-03-31T12:05:05.298198Z"
    }
   },
   "source": [
    "dataset.shape"
   ],
   "outputs": [
    {
     "data": {
      "text/plain": [
       "(564, 28)"
      ]
     },
     "execution_count": 89,
     "metadata": {},
     "output_type": "execute_result"
    }
   ],
   "execution_count": 89
  },
  {
   "cell_type": "code",
   "id": "743d02d8e0987e04",
   "metadata": {
    "ExecuteTime": {
     "end_time": "2025-03-31T12:05:06.634405Z",
     "start_time": "2025-03-31T12:05:06.631458Z"
    }
   },
   "source": "dataset[dataset['Income_Level'] == 'High'].shape",
   "outputs": [
    {
     "data": {
      "text/plain": [
       "(297, 28)"
      ]
     },
     "execution_count": 90,
     "metadata": {},
     "output_type": "execute_result"
    }
   ],
   "execution_count": 90
  },
  {
   "cell_type": "code",
   "id": "f70c635f4afc5006",
   "metadata": {
    "ExecuteTime": {
     "end_time": "2025-03-31T12:05:08.534228Z",
     "start_time": "2025-03-31T12:05:08.531515Z"
    }
   },
   "source": [
    "dataset[dataset['Income_Level'] == 'Middle'].shape"
   ],
   "outputs": [
    {
     "data": {
      "text/plain": [
       "(267, 28)"
      ]
     },
     "execution_count": 91,
     "metadata": {},
     "output_type": "execute_result"
    }
   ],
   "execution_count": 91
  },
  {
   "cell_type": "code",
   "id": "baca63cd41068a3a",
   "metadata": {
    "ExecuteTime": {
     "end_time": "2025-03-31T12:05:09.801454Z",
     "start_time": "2025-03-31T12:05:09.798545Z"
    }
   },
   "source": [
    "qtd_total_novo, _ = dataset.shape\n",
    "qtd_cliente_renda_alta_novo, _ = dataset[dataset['Income_Level'] == 'High'].shape\n",
    "\n",
    "qtd_cliente_com_renda_media_novo, _ = dataset[dataset['Income_Level'] == 'Middle'].shape"
   ],
   "outputs": [],
   "execution_count": 92
  },
  {
   "cell_type": "code",
   "id": "51e30ac12cf594d2",
   "metadata": {
    "ExecuteTime": {
     "end_time": "2025-03-31T12:05:11.152942Z",
     "start_time": "2025-03-31T12:05:11.150645Z"
    }
   },
   "source": [
    "print(f\"A proporcão renda alta ativos é de {round(100 * qtd_cliente_com_renda_alta / qtd_total, 2)}%\")\n",
    "print(f\"A nova proporcão de clientes renda alta é de {round(100 * qtd_cliente_renda_alta_novo / qtd_total_novo, 2)}%\")\n",
    "print(\"\")\n",
    "print(f\"A proporcão clientes com renda media é de {round(100 * qtd_cliente_com_renda_media / qtd_total, 2)}%\")\n",
    "print(f\"A nova proporcão de clientes com renda alta é de {round(100 * qtd_cliente_com_renda_media_novo / qtd_total_novo, 2)}%\")"
   ],
   "outputs": [
    {
     "name": "stdout",
     "output_type": "stream",
     "text": [
      "A proporcão renda alta ativos é de 51.5%\n",
      "A nova proporcão de clientes renda alta é de 52.66%\n",
      "\n",
      "A proporcão clientes com renda media é de 48.5%\n",
      "A nova proporcão de clientes com renda alta é de 47.34%\n"
     ]
    }
   ],
   "execution_count": 93
  },
  {
   "cell_type": "markdown",
   "id": "c7486cd4992dc2b6",
   "metadata": {},
   "source": [
    "## 4\\. Visualização de dados"
   ]
  },
  {
   "cell_type": "markdown",
   "id": "e3cfcac0cd842950",
   "metadata": {},
   "source": "Os dados estão prontos, vamos criar diversas visualizações para correlacionar variáveis explicativas com a variável resposta para buscar entender qual fator leva um cliente com renda alta. E para isso, vamos sempre comparar a base com todos os clientes com a base de renda_alta e renda_media."
  },
  {
   "cell_type": "markdown",
   "id": "e75dc1f1935f61ba",
   "metadata": {},
   "source": "Começamos então importando os pacotes de visualização e separando os clientes renda alta e renda media"
  },
  {
   "cell_type": "code",
   "id": "3c7a6ddd9d6e1ec2",
   "metadata": {
    "ExecuteTime": {
     "end_time": "2025-03-31T12:05:12.990539Z",
     "start_time": "2025-03-31T12:05:12.985461Z"
    }
   },
   "source": [
    "sns.set_style(\"whitegrid\")"
   ],
   "outputs": [],
   "execution_count": 94
  },
  {
   "cell_type": "code",
   "id": "56b1777fb4c05bcf",
   "metadata": {
    "ExecuteTime": {
     "end_time": "2025-03-31T12:05:14.528727Z",
     "start_time": "2025-03-31T12:05:14.526111Z"
    }
   },
   "source": "dataset_renda_alta = dataset[dataset['Income_Level'] == 'High']",
   "outputs": [],
   "execution_count": 95
  },
  {
   "cell_type": "code",
   "id": "fae1590e5e561f7e",
   "metadata": {
    "ExecuteTime": {
     "end_time": "2025-03-31T12:05:15.519775Z",
     "start_time": "2025-03-31T12:05:15.516282Z"
    }
   },
   "source": "dataset_renda_media = dataset[dataset['Income_Level'] == 'Middle']",
   "outputs": [],
   "execution_count": 96
  },
  {
   "metadata": {
    "ExecuteTime": {
     "end_time": "2025-03-31T12:05:16.581775Z",
     "start_time": "2025-03-31T12:05:16.434703Z"
    }
   },
   "cell_type": "code",
   "source": [
    "sns.histplot(dataset['Purchase_Amount'], bins=30, kde=True)\n",
    "plt.show()"
   ],
   "id": "3d776a14a33f6099",
   "outputs": [
    {
     "data": {
      "text/plain": [
       "<Figure size 640x480 with 1 Axes>"
      ],
      "image/png": "[encoded data removed]"
     },
     "metadata": {},
     "output_type": "display_data"
    }
   ],
   "execution_count": 97
  },
  {
   "metadata": {},
   "cell_type": "markdown",
   "source": [
    "O gráfico acima mostra a relação entre a frequência de observações (eixo Y) e o valor das compras (eixo X)\n",
    "Observa-se que:\n",
    "\n",
    "* A distribuição tem um pico inicial em valores baixos (por volta de 100–200), indicando que compras\n",
    "de menor valor são mais frequentes\n",
    "* A frequência diminui gradualmente conforme o valor da compra aumenta, seguindo um padrão\n",
    "assimétrico à direita (cauda longa).\n",
    "\n",
    "Isso sugere que a maioria das transações são de valores modestos, com poucas compras de alto valor\n",
    "(acima de 300).\""
   ],
   "id": "725821c17fa747b4"
  },
  {
   "cell_type": "markdown",
   "id": "608d62ed1e2d85fd",
   "metadata": {},
   "source": [
    "### **4.1. Visualizações categóricas**"
   ]
  },
  {
   "cell_type": "markdown",
   "id": "774b71990dce50ed",
   "metadata": {},
   "source": "Nesta seção, vamos visualizar a relação entre a variável resposta **Income_Level** com os atributos categóricos."
  },
  {
   "cell_type": "code",
   "id": "9b24055d8e0bf4f4",
   "metadata": {
    "ExecuteTime": {
     "end_time": "2025-03-31T12:05:22.022421Z",
     "start_time": "2025-03-31T12:05:22.015567Z"
    }
   },
   "source": [
    "dataset.select_dtypes('object').head(n=5)"
   ],
   "outputs": [
    {
     "data": {
      "text/plain": [
       "    Customer_ID  Gender Income_Level Marital_Status Education_Level  \\\n",
       "1   29-392-9296    Male         High        Married     High School   \n",
       "2   84-649-5117  Female       Middle         Single        Master's   \n",
       "6   90-144-9193  Female       Middle       Divorced     High School   \n",
       "8   37-065-3182  Female         High       Divorced        Master's   \n",
       "10  44-674-4037    Male       Middle       Divorced      Bachelor's   \n",
       "\n",
       "   Occupation     Location   Purchase_Category Purchase_Channel  \\\n",
       "1        High     Huocheng    Food & Beverages         In-Store   \n",
       "2        High       Huzhen     Office Supplies            Mixed   \n",
       "6      Middle        Liren           Furniture           Online   \n",
       "8      Middle        Gråbo     Office Supplies         In-Store   \n",
       "10     Middle  Punta Gorda  Mobile Accessories         In-Store   \n",
       "\n",
       "   Social_Media_Influence Discount_Sensitivity Engagement_with_Ads  \\\n",
       "1                  Medium        Not Sensitive                High   \n",
       "2                     Low        Not Sensitive                 Low   \n",
       "6                    High   Somewhat Sensitive                 Low   \n",
       "8                     Low       Very Sensitive                High   \n",
       "10                    Low        Not Sensitive                High   \n",
       "\n",
       "   Device_Used_for_Shopping Payment_Method Purchase_Intent Shipping_Preference  \n",
       "1                    Tablet         PayPal     Wants-based            Standard  \n",
       "2                Smartphone     Debit Card       Impulsive       No Preference  \n",
       "6                   Desktop     Debit Card      Need-based             Express  \n",
       "8                   Desktop           Cash      Need-based            Standard  \n",
       "10                  Desktop         PayPal         Planned             Express  "
      ],
      "text/html": [
       "<div>\n",
       "<style scoped>\n",
       "    .dataframe tbody tr th:only-of-type {\n",
       "        vertical-align: middle;\n",
       "    }\n",
       "\n",
       "    .dataframe tbody tr th {\n",
       "        vertical-align: top;\n",
       "    }\n",
       "\n",
       "    .dataframe thead th {\n",
       "        text-align: right;\n",
       "    }\n",
       "</style>\n",
       "<table border=\"1\" class=\"dataframe\">\n",
       "  <thead>\n",
       "    <tr style=\"text-align: right;\">\n",
       "      <th></th>\n",
       "      <th>Customer_ID</th>\n",
       "      <th>Gender</th>\n",
       "      <th>Income_Level</th>\n",
       "      <th>Marital_Status</th>\n",
       "      <th>Education_Level</th>\n",
       "      <th>Occupation</th>\n",
       "      <th>Location</th>\n",
       "      <th>Purchase_Category</th>\n",
       "      <th>Purchase_Channel</th>\n",
       "      <th>Social_Media_Influence</th>\n",
       "      <th>Discount_Sensitivity</th>\n",
       "      <th>Engagement_with_Ads</th>\n",
       "      <th>Device_Used_for_Shopping</th>\n",
       "      <th>Payment_Method</th>\n",
       "      <th>Purchase_Intent</th>\n",
       "      <th>Shipping_Preference</th>\n",
       "    </tr>\n",
       "  </thead>\n",
       "  <tbody>\n",
       "    <tr>\n",
       "      <th>1</th>\n",
       "      <td>29-392-9296</td>\n",
       "      <td>Male</td>\n",
       "      <td>High</td>\n",
       "      <td>Married</td>\n",
       "      <td>High School</td>\n",
       "      <td>High</td>\n",
       "      <td>Huocheng</td>\n",
       "      <td>Food &amp; Beverages</td>\n",
       "      <td>In-Store</td>\n",
       "      <td>Medium</td>\n",
       "      <td>Not Sensitive</td>\n",
       "      <td>High</td>\n",
       "      <td>Tablet</td>\n",
       "      <td>PayPal</td>\n",
       "      <td>Wants-based</td>\n",
       "      <td>Standard</td>\n",
       "    </tr>\n",
       "    <tr>\n",
       "      <th>2</th>\n",
       "      <td>84-649-5117</td>\n",
       "      <td>Female</td>\n",
       "      <td>Middle</td>\n",
       "      <td>Single</td>\n",
       "      <td>Master's</td>\n",
       "      <td>High</td>\n",
       "      <td>Huzhen</td>\n",
       "      <td>Office Supplies</td>\n",
       "      <td>Mixed</td>\n",
       "      <td>Low</td>\n",
       "      <td>Not Sensitive</td>\n",
       "      <td>Low</td>\n",
       "      <td>Smartphone</td>\n",
       "      <td>Debit Card</td>\n",
       "      <td>Impulsive</td>\n",
       "      <td>No Preference</td>\n",
       "    </tr>\n",
       "    <tr>\n",
       "      <th>6</th>\n",
       "      <td>90-144-9193</td>\n",
       "      <td>Female</td>\n",
       "      <td>Middle</td>\n",
       "      <td>Divorced</td>\n",
       "      <td>High School</td>\n",
       "      <td>Middle</td>\n",
       "      <td>Liren</td>\n",
       "      <td>Furniture</td>\n",
       "      <td>Online</td>\n",
       "      <td>High</td>\n",
       "      <td>Somewhat Sensitive</td>\n",
       "      <td>Low</td>\n",
       "      <td>Desktop</td>\n",
       "      <td>Debit Card</td>\n",
       "      <td>Need-based</td>\n",
       "      <td>Express</td>\n",
       "    </tr>\n",
       "    <tr>\n",
       "      <th>8</th>\n",
       "      <td>37-065-3182</td>\n",
       "      <td>Female</td>\n",
       "      <td>High</td>\n",
       "      <td>Divorced</td>\n",
       "      <td>Master's</td>\n",
       "      <td>Middle</td>\n",
       "      <td>Gråbo</td>\n",
       "      <td>Office Supplies</td>\n",
       "      <td>In-Store</td>\n",
       "      <td>Low</td>\n",
       "      <td>Very Sensitive</td>\n",
       "      <td>High</td>\n",
       "      <td>Desktop</td>\n",
       "      <td>Cash</td>\n",
       "      <td>Need-based</td>\n",
       "      <td>Standard</td>\n",
       "    </tr>\n",
       "    <tr>\n",
       "      <th>10</th>\n",
       "      <td>44-674-4037</td>\n",
       "      <td>Male</td>\n",
       "      <td>Middle</td>\n",
       "      <td>Divorced</td>\n",
       "      <td>Bachelor's</td>\n",
       "      <td>Middle</td>\n",
       "      <td>Punta Gorda</td>\n",
       "      <td>Mobile Accessories</td>\n",
       "      <td>In-Store</td>\n",
       "      <td>Low</td>\n",
       "      <td>Not Sensitive</td>\n",
       "      <td>High</td>\n",
       "      <td>Desktop</td>\n",
       "      <td>PayPal</td>\n",
       "      <td>Planned</td>\n",
       "      <td>Express</td>\n",
       "    </tr>\n",
       "  </tbody>\n",
       "</table>\n",
       "</div>"
      ]
     },
     "execution_count": 98,
     "metadata": {},
     "output_type": "execute_result"
    }
   ],
   "execution_count": 98
  },
  {
   "metadata": {},
   "cell_type": "markdown",
   "source": " fazendo um plot do genero de quem compra mais si e do sexo feminino ou masculino",
   "id": "77840c8076e4463d"
  },
  {
   "cell_type": "code",
   "id": "85feecfc3a6f7a49",
   "metadata": {
    "ExecuteTime": {
     "end_time": "2025-03-31T12:05:23.657732Z",
     "start_time": "2025-03-31T12:05:23.400101Z"
    }
   },
   "source": [
    "coluna = \"Gender\"\n",
    "\n",
    "# Listar os datasets para iteração\n",
    "datasets = {\n",
    "    \"Clientes\": dataset,\n",
    "    \"Clientes com Renda Alta\": dataset_renda_alta,\n",
    "    \"Clientes com Renda Média\": dataset_renda_media,\n",
    "}\n",
    "\n",
    "# Inicializar variáveis para os gráficos\n",
    "figura, eixos = plt.subplots(1, len(datasets), figsize=(20, 5), sharex=True)\n",
    "max_y = 0\n",
    "\n",
    "\n",
    "# Função para criar o gráfico de barras\n",
    "def plota_barras(eixo, df, titulo):\n",
    "    global max_y\n",
    "    # Contar frequências da coluna selecionada\n",
    "    df_to_plot = df[coluna].value_counts().reset_index()\n",
    "    df_to_plot.columns = [coluna, \"frequencia_absoluta\"]\n",
    "    df_to_plot.sort_values(by=[coluna], inplace=True)\n",
    "\n",
    "    # Criar gráfico de barras\n",
    "    f = sns.barplot(data=df_to_plot, x=coluna, y=\"frequencia_absoluta\", ax=eixo)\n",
    "    f.set(title=titulo, xlabel=coluna.capitalize(), ylabel=\"Frequência Absoluta\")\n",
    "    f.tick_params(axis='x', rotation=45)\n",
    "\n",
    "    # Ajustar o limite máximo do eixo y\n",
    "    _, max_y_f = f.get_ylim()\n",
    "    max_y = max(max_y, max_y_f)\n",
    "\n",
    "\n",
    "# Iterar sobre datasets e eixos para criar os gráficos\n",
    "for eixo, (titulo, df) in enumerate(datasets.items()):\n",
    "    plota_barras(eixos[eixo], df, titulo)\n",
    "\n",
    "# Equalizar o limite máximo do eixo y em todos os gráficos\n",
    "for eixo in eixos:\n",
    "    eixo.set(ylim=(0, max_y))\n",
    "\n",
    "# Exibir os gráficos\n",
    "plt.tight_layout()\n",
    "plt.show()\n"
   ],
   "outputs": [
    {
     "data": {
      "text/plain": [
       "<Figure size 2000x500 with 3 Axes>"
      ],
      "image/png": "[encoded data removed]"
     },
     "metadata": {},
     "output_type": "display_data"
    }
   ],
   "execution_count": 99
  },
  {
   "metadata": {},
   "cell_type": "markdown",
   "source": "A sobreposição dos rótulos no eixo X compromete a legibilidade dos gráficos. Para melhorar isso, é possível girar os textos do eixo X ou agrupar algumas categorias semelhantes para reduzir o número de rótulos exibidos. Além disso, os gráficos centrais apresentam barras pouco visíveis ou inexistentes, sugerindo que pode haver poucos ou nenhum dado para esses grupos. Isso pode indicar a necessidade de revisar o filtro aplicado ou ajustar a escala do gráfico para melhor representar a distribuição dos dados.\n",
   "id": "50773a300bbd41d6"
  },
  {
   "metadata": {},
   "cell_type": "markdown",
   "source": " - Idade dos clientes",
   "id": "9f21cc20709a9dd7"
  },
  {
   "cell_type": "code",
   "id": "b128ce0ca55ea5f4",
   "metadata": {
    "ExecuteTime": {
     "end_time": "2025-03-31T12:05:27.625342Z",
     "start_time": "2025-03-31T12:05:27.233796Z"
    }
   },
   "source": [
    "coluna = ('Age')\n",
    "titulos = [\"Idade dos Clientes\",\n",
    "           \"Idade dos  Clientes com Renda Alta\",\n",
    "           \"Idade dos  Clientes com Renda media\",]\n",
    "\n",
    "eixo = 0\n",
    "max_y = 0\n",
    "figura, eixos = plt.subplots(1,3, figsize=(20, 5), sharex=True)\n",
    "\n",
    "for dataframe in [dataset, dataset_renda_alta, dataset_renda_media]:\n",
    "\n",
    "    df_to_plot = dataframe[coluna].value_counts().to_frame()\n",
    "    df_to_plot.rename(columns={coluna: 'Age'}, inplace=True)\n",
    "    df_to_plot[coluna] = df_to_plot.index\n",
    "    df_to_plot.reset_index(inplace=True, drop=True)\n",
    "    df_to_plot.sort_values(by=[coluna], inplace=True)\n",
    "\n",
    "    f = sns.barplot(x=df_to_plot[coluna], y=df_to_plot['Age'], ax=eixos[eixo])\n",
    "    f.set(title=titulos[eixo], xlabel=coluna.capitalize(), ylabel='freqeuncia absoluta')\n",
    "    f.set_xticklabels(labels=f.get_xticklabels(), rotation=90)\n",
    "    _, max_y_f = f.get_ylim()\n",
    "    max_y = max_y_f if max_y_f > max_y else max_y\n",
    "    f.set(ylim=(0, max_y))\n",
    "    eixo += 1\n",
    "\n",
    "figura.show()"
   ],
   "outputs": [
    {
     "name": "stderr",
     "output_type": "stream",
     "text": [
      "/tmp/ipykernel_10209/3495906224.py:20: UserWarning: set_ticklabels() should only be used with a fixed number of ticks, i.e. after set_ticks() or using a FixedLocator.\n",
      "  f.set_xticklabels(labels=f.get_xticklabels(), rotation=90)\n",
      "/tmp/ipykernel_10209/3495906224.py:20: UserWarning: set_ticklabels() should only be used with a fixed number of ticks, i.e. after set_ticks() or using a FixedLocator.\n",
      "  f.set_xticklabels(labels=f.get_xticklabels(), rotation=90)\n",
      "/tmp/ipykernel_10209/3495906224.py:20: UserWarning: set_ticklabels() should only be used with a fixed number of ticks, i.e. after set_ticks() or using a FixedLocator.\n",
      "  f.set_xticklabels(labels=f.get_xticklabels(), rotation=90)\n",
      "/tmp/ipykernel_10209/3495906224.py:26: UserWarning: FigureCanvasAgg is non-interactive, and thus cannot be shown\n",
      "  figura.show()\n"
     ]
    },
    {
     "data": {
      "text/plain": [
       "<Figure size 2000x500 with 3 Axes>"
      ],
      "image/png": "[encoded data removed]"
     },
     "metadata": {},
     "output_type": "display_data"
    }
   ],
   "execution_count": 100
  },
  {
   "metadata": {},
   "cell_type": "markdown",
   "source": "O conjunto de dados explora a distribuição etária dos clientes, com foco especial naqueles com renda alta. Observa-se que a base de clientes geral apresenta uma distribuição concentrada entre 26-45 anos (75% do total), enquanto os clientes de alta renda mostram uma distribuição mais equilibrada entre as faixas etárias, com maior representatividade na faixa 36-55 anos (60% deste grupo). Esta diferença sugere que clientes mais maduros possuem maior capacidade financeira, o que pode orientar estratégias de marketing diferenciadas por faixa etária.",
   "id": "49866fee7d64aa1c"
  },
  {
   "metadata": {},
   "cell_type": "markdown",
   "source": "### **4.2. Visualizações numéricas**",
   "id": "f0e64d01192e6b21"
  },
  {
   "metadata": {},
   "cell_type": "markdown",
   "source": "Nesta seção, vamos visualizar a relação entre a variável resposta **Income_Level** com os atributos numéricos.",
   "id": "be7c101586d23959"
  },
  {
   "metadata": {
    "ExecuteTime": {
     "end_time": "2025-03-31T12:05:29.787743Z",
     "start_time": "2025-03-31T12:05:29.781827Z"
    }
   },
   "cell_type": "code",
   "source": "dataset.drop(['Customer_ID', 'Income_Level'], axis=1).select_dtypes('number').head(n=5)",
   "id": "908a0e720ed3714",
   "outputs": [
    {
     "data": {
      "text/plain": [
       "    Age  Purchase_Amount  Frequency_of_Purchase  Brand_Loyalty  \\\n",
       "1    49           222.22                     11              3   \n",
       "2    24           426.22                      2              5   \n",
       "6    21           486.40                     12              2   \n",
       "8    24           201.96                      8              3   \n",
       "10   33           389.70                     12              1   \n",
       "\n",
       "    Product_Rating  Time_Spent_on_Product_Research(hours)  Return_Rate  \\\n",
       "1                1                                    2.0            1   \n",
       "2                5                                    0.3            1   \n",
       "6                5                                    1.0            0   \n",
       "8                5                                    0.0            1   \n",
       "10               4                                    0.5            0   \n",
       "\n",
       "    Customer_Satisfaction  Time_to_Decision  \n",
       "1                       5                 6  \n",
       "2                       7                 3  \n",
       "6                       9                13  \n",
       "8                       2                 7  \n",
       "10                      4                12  "
      ],
      "text/html": [
       "<div>\n",
       "<style scoped>\n",
       "    .dataframe tbody tr th:only-of-type {\n",
       "        vertical-align: middle;\n",
       "    }\n",
       "\n",
       "    .dataframe tbody tr th {\n",
       "        vertical-align: top;\n",
       "    }\n",
       "\n",
       "    .dataframe thead th {\n",
       "        text-align: right;\n",
       "    }\n",
       "</style>\n",
       "<table border=\"1\" class=\"dataframe\">\n",
       "  <thead>\n",
       "    <tr style=\"text-align: right;\">\n",
       "      <th></th>\n",
       "      <th>Age</th>\n",
       "      <th>Purchase_Amount</th>\n",
       "      <th>Frequency_of_Purchase</th>\n",
       "      <th>Brand_Loyalty</th>\n",
       "      <th>Product_Rating</th>\n",
       "      <th>Time_Spent_on_Product_Research(hours)</th>\n",
       "      <th>Return_Rate</th>\n",
       "      <th>Customer_Satisfaction</th>\n",
       "      <th>Time_to_Decision</th>\n",
       "    </tr>\n",
       "  </thead>\n",
       "  <tbody>\n",
       "    <tr>\n",
       "      <th>1</th>\n",
       "      <td>49</td>\n",
       "      <td>222.22</td>\n",
       "      <td>11</td>\n",
       "      <td>3</td>\n",
       "      <td>1</td>\n",
       "      <td>2.0</td>\n",
       "      <td>1</td>\n",
       "      <td>5</td>\n",
       "      <td>6</td>\n",
       "    </tr>\n",
       "    <tr>\n",
       "      <th>2</th>\n",
       "      <td>24</td>\n",
       "      <td>426.22</td>\n",
       "      <td>2</td>\n",
       "      <td>5</td>\n",
       "      <td>5</td>\n",
       "      <td>0.3</td>\n",
       "      <td>1</td>\n",
       "      <td>7</td>\n",
       "      <td>3</td>\n",
       "    </tr>\n",
       "    <tr>\n",
       "      <th>6</th>\n",
       "      <td>21</td>\n",
       "      <td>486.40</td>\n",
       "      <td>12</td>\n",
       "      <td>2</td>\n",
       "      <td>5</td>\n",
       "      <td>1.0</td>\n",
       "      <td>0</td>\n",
       "      <td>9</td>\n",
       "      <td>13</td>\n",
       "    </tr>\n",
       "    <tr>\n",
       "      <th>8</th>\n",
       "      <td>24</td>\n",
       "      <td>201.96</td>\n",
       "      <td>8</td>\n",
       "      <td>3</td>\n",
       "      <td>5</td>\n",
       "      <td>0.0</td>\n",
       "      <td>1</td>\n",
       "      <td>2</td>\n",
       "      <td>7</td>\n",
       "    </tr>\n",
       "    <tr>\n",
       "      <th>10</th>\n",
       "      <td>33</td>\n",
       "      <td>389.70</td>\n",
       "      <td>12</td>\n",
       "      <td>1</td>\n",
       "      <td>4</td>\n",
       "      <td>0.5</td>\n",
       "      <td>0</td>\n",
       "      <td>4</td>\n",
       "      <td>12</td>\n",
       "    </tr>\n",
       "  </tbody>\n",
       "</table>\n",
       "</div>"
      ]
     },
     "execution_count": 101,
     "metadata": {},
     "output_type": "execute_result"
    }
   ],
   "execution_count": 101
  },
  {
   "metadata": {},
   "cell_type": "markdown",
   "source": " - qual e a renda das pessoas",
   "id": "4496d94ef0d3fe10"
  },
  {
   "metadata": {
    "ExecuteTime": {
     "end_time": "2025-03-31T12:05:32.320379Z",
     "start_time": "2025-03-31T12:05:32.101932Z"
    }
   },
   "cell_type": "code",
   "source": [
    "coluna = 'Income_Level'\n",
    "titulos = ['renda percapta das pessaos', 'Qtd. quantidade de pessoas com renda alta', 'Qtd. de pessoas com renda media']\n",
    "\n",
    "eixo = 0\n",
    "max_y = 0\n",
    "figura, eixos = plt.subplots(1,3, figsize=(20, 5), sharex=True)\n",
    "\n",
    "for dataframe in [dataset, dataset_renda_alta, dataset_renda_media]:\n",
    "\n",
    "    f = sns.histplot(x=coluna, data=dataframe, stat='count', ax=eixos[eixo])\n",
    "    f.set(title=titulos[eixo], xlabel=coluna.capitalize(), ylabel='Compras Freqeuntes')\n",
    "\n",
    "    _, max_y_f = f.get_ylim()\n",
    "    max_y = max_y_f if max_y_f > max_y else max_y\n",
    "    f.set(ylim=(0, max_y))\n",
    "\n",
    "    eixo += 1\n",
    "\n",
    "figura.show()"
   ],
   "id": "10e19292b7b89b4f",
   "outputs": [
    {
     "name": "stderr",
     "output_type": "stream",
     "text": [
      "/tmp/ipykernel_10209/1170023482.py:19: UserWarning: FigureCanvasAgg is non-interactive, and thus cannot be shown\n",
      "  figura.show()\n"
     ]
    },
    {
     "data": {
      "text/plain": [
       "<Figure size 2000x500 with 3 Axes>"
      ],
      "image/png": "[encoded data removed]"
     },
     "metadata": {},
     "output_type": "display_data"
    }
   ],
   "execution_count": 102
  },
  {
   "metadata": {},
   "cell_type": "markdown",
   "source": [
    "Esta análise explora a relação entre renda per capita e hábitos de compra. Os dados sugerem que\n",
    "\n",
    "1.``Clientes de Alta Renda`` representam X% da base analisada e demonstram maior tendência\n",
    "a compras frequentes (Y% contra Z% na renda média), indicando maior poder aquisitivo e/ou\n",
    "fidelidade à marca.\n",
    "\n",
    "2.``Clientes de Renda Média`` embora representem a maior parte da base (X%), realizam compras com\n",
    "menos frequência, sugerindo comportamento mais sazonal ou sensível a promoções."
   ],
   "id": "983260f46379baea"
  },
  {
   "metadata": {},
   "cell_type": "markdown",
   "source": " - consulta de satisfacao dos clientes",
   "id": "188d301f5d81aec7"
  },
  {
   "metadata": {
    "ExecuteTime": {
     "end_time": "2025-03-31T12:05:35.596109Z",
     "start_time": "2025-03-31T12:05:35.356736Z"
    }
   },
   "cell_type": "code",
   "source": [
    "coluna = 'Customer_Satisfaction'\n",
    "titulos = ['satisfacao dos clientes', 'satisfacao dos clientes com renda alta', 'satisfacao dos clientes com renda media']\n",
    "\n",
    "eixo = 0\n",
    "max_y = 0\n",
    "figura, eixos = plt.subplots(1,3, figsize=(20, 5), sharex=True)\n",
    "\n",
    "for dataframe in [dataset, dataset_renda_alta, dataset_renda_media]:\n",
    "\n",
    "    f = sns.histplot(x=coluna, data=dataframe, stat='count', ax=eixos[eixo])\n",
    "    f.set(title=titulos[eixo], xlabel=coluna.capitalize(), ylabel='satisfacao dos clientes')\n",
    "\n",
    "    _, max_y_f = f.get_ylim()\n",
    "    max_y = max_y_f if max_y_f > max_y else max_y\n",
    "    f.set(ylim=(0, max_y))\n",
    "\n",
    "    eixo += 1\n",
    "\n",
    "figura.show()"
   ],
   "id": "c18f7c6ae1f6e670",
   "outputs": [
    {
     "name": "stderr",
     "output_type": "stream",
     "text": [
      "/tmp/ipykernel_10209/3249087332.py:19: UserWarning: FigureCanvasAgg is non-interactive, and thus cannot be shown\n",
      "  figura.show()\n"
     ]
    },
    {
     "data": {
      "text/plain": [
       "<Figure size 2000x500 with 3 Axes>"
      ],
      "image/png": "[encoded data removed]"
     },
     "metadata": {},
     "output_type": "display_data"
    }
   ],
   "execution_count": 103
  },
  {
   "metadata": {},
   "cell_type": "markdown",
   "source": [
    "Os histogramas comparativos ilustram a distribuição da satisfação dos clientes em três grupos\n",
    "distintos: a amostra geral, clientes com renda alta e clientes com renda média.\n",
    "\n",
    "Na ``amostra geral``, a satisfação tende a se concentrar nos níveis mais elevados, com picos\n",
    "significativos nas avaliações próximas a 2 e entre 5 e 7, sugerindo uma predominância de clientes\n",
    "satisfeitos. No entanto, uma parcela considerável demonstra níveis de satisfação mais baixos.\n",
    "\n",
    "Ao analisar a ``satisfação dos clientes com renda alta``, a distribuição se mostra mais dispersa,\n",
    "indicando uma maior variabilidade nas opiniões. Observam-se alguns picos de satisfação, mas\n",
    "também uma presença notável de clientes com avaliações mais baixas.\n",
    "\n",
    "A distribuição da ``satisfação dos clientes com renda média`` apresenta um padrão mais\n",
    "uniforme, com picos menos acentuados em comparação com os outros grupos. Isso sugere uma\n",
    "satisfação mais equilibrada dentro desse segmento.\n",
    "\n",
    "Apesar das nuances em cada grupo, uma análise visual sugere que não há uma correlação direta\n",
    "óbvia entre a faixa de renda (alta ou média, conforme categorizado) e os níveis gerais de\n",
    "satisfação expressos pelos clientes. A satisfação parece ser influenciada por outros fatores além\n",
    "da renda, dentro dessas categorias analisadas"
   ],
   "id": "9edb14f70d6c684a"
  },
  {
   "metadata": {},
   "cell_type": "markdown",
   "source": " - Valor de Transações nos Últimos 12 Meses x Quantidade de Transações nos Últimos 12 Meses",
   "id": "a27a144f9dd49da9"
  },
  {
   "metadata": {
    "ExecuteTime": {
     "end_time": "2025-03-31T12:05:37.960693Z",
     "start_time": "2025-03-31T12:05:37.824692Z"
    }
   },
   "cell_type": "code",
   "source": [
    "f = sns.relplot(x='Customer_Satisfaction', y='Customer_Satisfaction', data=dataset, hue='Income_Level')\n",
    "_ = f.set(\n",
    "    title= 'Comparação da Satisfação de Clientes de Renda Alta e Média',\n",
    "    xlabel='Renda alta e sua idade',\n",
    "    ylabel='renda media e sua idade',\n",
    ")"
   ],
   "id": "257e95808a70ee12",
   "outputs": [
    {
     "data": {
      "text/plain": [
       "<Figure size 605.611x500 with 1 Axes>"
      ],
      "image/png": "[encoded data removed]"
     },
     "metadata": {},
     "output_type": "display_data"
    }
   ],
   "execution_count": 104
  },
  {
   "metadata": {},
   "cell_type": "markdown",
   "source": [
    "Este gráfico de dispersão compara a distribuição de grupos de clientes com renda alta e renda\n",
    "média em relação à sua idade média. Cada ponto representa um grupo de clientes, posicionado\n",
    "no gráfico de acordo com a idade média desse grupo.\n",
    "\n",
    "Observa-se uma concentração de grupos de clientes em certas faixas etárias, tanto para renda\n",
    "alta quanto para renda média, o que pode refletir a distribuição da nossa base de clientes por\n",
    "idade. É importante notar a significativa sobreposição entre os grupos de renda alta e média em\n",
    "várias faixas de idade. Essa sobreposição sugere que, dentro de uma determinada idade média\n",
    "de um grupo, encontramos clientes com diferentes níveis de renda.\n",
    "\n",
    "A dispersão dos pontos para cada nível de renda em diferentes idades médias indica a\n",
    "variabilidade da idade dentro desses grupos específicos. No entanto, a análise visual do gráfico\n",
    "não revela uma tendência clara que associe diretamente a idade média dos grupos com o nível\n",
    "de renda. Os clientes de renda alta e média parecem estar distribuídos em faixas de idade\n",
    "semelhantes, sem uma separação ou correlação evidente entre a idade média do grupo e o nível\n",
    "de renda.\n",
    "\n",
    "Em resumo, embora o gráfico mostre a distribuição dos clientes por idade média e nível de renda,\n",
    "ele não indica uma relação forte ou consistente entre essas duas variáveis para os grupos\n",
    "analisados."
   ],
   "id": "72f2deba661edb87"
  },
  {
   "metadata": {},
   "cell_type": "code",
   "outputs": [],
   "execution_count": null,
   "source": "",
   "id": "dd9830a2ddcfbb0f"
  }
 ],
 "metadata": {
  "kernelspec": {
   "display_name": "Python 3 (ipykernel)",
   "language": "python",
   "name": "python3"
  },
  "language_info": {
   "codemirror_mode": {
    "name": "ipython",
    "version": 3
   },
   "file_extension": ".py",
   "mimetype": "text/x-python",
   "name": "python",
   "nbconvert_exporter": "python",
   "pygments_lexer": "ipython3",
   "version": "3.12.3"
  }
 },
 "nbformat": 4,
 "nbformat_minor": 5
}
